{
 "cells": [
  {
   "cell_type": "markdown",
   "metadata": {},
   "source": [
    "## Блок импорта библиотек"
   ]
  },
  {
   "cell_type": "code",
   "execution_count": null,
   "metadata": {},
   "outputs": [],
   "source": [
    "# Подключить библиотеки для мат обработки данных и генерации случайных данных\n",
    "import numpy as np\n",
    "import math\n",
    "\n",
    "# Подключить библиотеки для работы с датой/временем\n",
    "from datetime import datetime\n",
    "import time\n",
    "\n",
    "# Подключить библиотеки для асинхронной работы\n",
    "import asyncio\n",
    "# Подключить библиотеки для работы с базой данных redis\n",
    "import redis\n",
    "# Подключить библиотеки для работы с JSON\n",
    "import json\n",
    "\n",
    "# Подключить библиотеки для работы с виджетами в Jupyter Lab\n",
    "import ipywidgets as widgets\n",
    "from   ipywidgets import Output\n",
    "from IPython.display import display\n",
    "\n",
    "# -----------------------------------------------------------------------\n",
    "# Подключить пользовательские модули\n",
    "# -----------------------------------------------------------------------\n",
    "import sys\n",
    "sys.path.append('/home/project/3D-position-2023/py/lib')\n",
    "\n",
    "# Подключить модуль для подключения к БД Redis\n",
    "from py.lib.lib_work_redis_rev01_v01 import *\n",
    "# Подключить модуль для работы с данными IMU сенсоров\n",
    "from py.lib.lib_calculate_angles_rev01_v02 import *\n",
    "# Подключить модуль для создания и обновления HTML элементов отображения данных об углах Эйлера\n",
    "from py.lib.lib_work_html_widget_rev01_v01 import *\n",
    "# Подключить модуль с оберткой для синхронных функций в стиле setInterval JavaScript\n",
    "from py.lib.lib_setinterval_rev01_v01 import *"
   ]
  },
  {
   "cell_type": "markdown",
   "metadata": {},
   "source": [
    "## Блок объявления глобальных переменных модуля"
   ]
  },
  {
   "cell_type": "code",
   "execution_count": null,
   "metadata": {},
   "outputs": [],
   "source": [
    "AccArrRaw  = [[0,0,0],[0,0,0],[0,0,0]] # массив, хранит \"сырые\" данные от Акселерометра\n",
    "GyroArrRaw = [[0,0,0],[0,0,0],[0,0,0]] # массив, хранит \"сырые\" данные от Гироскопа\n",
    "MagArrRaw  = [[0,0,0],[0,0,0],[0,0,0]] # массив, хранит \"сырые\" данные от Магнитометра\n",
    "\n",
    "AccArrAvg  = [[0,0,0],[0,0,0],[0,0,0]] # массив, хранит усредненные данные от Акселерометра\n",
    "GyroArrAvg = [[0,0,0],[0,0,0],[0,0,0]] # массив, хранит усредненные данные от Гироскопа\n",
    "MagArrAvg  = [[0,0,0],[0,0,0],[0,0,0]] # массив, хранит усредненные данные от Магнитометра\n",
    "\n",
    "AccArrAngle  = [[0,0,0],[0,0,0],[0,0,0]] # массив, хранит углы Эйлера полученные с от Акселерометра\n",
    "GyroArrAngle = [[0,0,0],[0,0,0],[0,0,0]] # массив, хранит углы Эйлера полученные с помощью Гироскопа\n",
    "CompArrAngle = [[0,0,0],[0,0,0],[0,0,0]] # массив, хранит углы Эйлера полученные с помощью фильтра слияния\n",
    "\n",
    "TempArr = [0] # массив, хранит данные от термометра\n",
    "\n",
    "TimeDeltaAngle = 0 # значение dt для текущей итерации вычисления углов Эйлера\n",
    "\n",
    "AccLimitData = 500 # максимальное количество значений от Акселерометра для калибровки\n",
    "\n",
    "AccXcalibration1 = [] # список значений отобранных для калиброво Акселерометра в Положении 1\n",
    "AccXcalibration2 = [] # список значений отобранных для калиброво Акселерометра в Положении 3\n",
    "AccYcalibration1 = [] # список значений отобранных для калиброво Акселерометра в Положении 2\n",
    "AccYcalibration2 = [] # список значений отобранных для калиброво Акселерометра в Положении 4\n",
    "AccZcalibration1 = [] # список значений отобранных для калиброво Акселерометра в Положении 5\n",
    "AccZcalibration2 = [] # список значений отобранных для калиброво Акселерометра в Положении 6\n",
    "\n",
    "StatusCalibration = True # статус калибровки, 'False' - калибровка не завершена, 'True' - калибровка завершена\n",
    "PosCalibration = 1 # номер положения калибровки\n",
    "StatusAsyncCode = False # статус выполнения асинхронного кода,  который участвует в калибровке, 'True'- выполняется, 'False - не выполняется\n",
    "\n",
    "AsyncFuncID = None # дескриптор хранящий ссылку на асинхронную функцию связанную с SetInterval"
   ]
  },
  {
   "cell_type": "markdown",
   "metadata": {},
   "source": [
    "## Блок синхронизации данных с БД"
   ]
  },
  {
   "cell_type": "code",
   "execution_count": null,
   "metadata": {},
   "outputs": [],
   "source": [
    "'''\n",
    "        Не системная функция, выполняет синхронизацию данных между БД и переменными блокнота.  \n",
    "'''\n",
    "def AsyncReadDataDB() -> None:\n",
    "        # Считать массив \"сырых\" данных из БД\n",
    "        ImuListRawKey = ('AccArrRaw', 'GyroArrRaw', 'MagArrRaw')\n",
    "        ImuListRawData = [AccArrRaw, GyroArrRaw, MagArrRaw]\n",
    "        ReadValJSONfromDB( ConnectDB, ImuListRawKey, ImuListRawData )\n",
    "\n",
    "        # Считать массив  усредненных данных из БД\n",
    "        ImuListAvgKey = ('AccArrAvg', 'GyroArrAvg', 'MagArrAvg')\n",
    "        ImuListAvgData = [AccArrAvg, GyroArrAvg, MagArrAvg]\n",
    "        ReadValJSONfromDB( ConnectDB, ImuListAvgKey, ImuListAvgData )\n",
    "\n",
    "        # Считать массивы со значениями углов Эйлера из БД\n",
    "        AngelListKey = ('AccArrAngle', 'GyroArrAngle', 'CompArrAngle')\n",
    "        AngelListData = [AccArrAngle, GyroArrAngle, CompArrAngle]\n",
    "        ReadValJSONfromDB( ConnectDB, AngelListKey, AngelListData )\n",
    "\n",
    "        # Считать массив со значениями температуры IMU из БД\n",
    "        TempListKey = ('TempArr',)\n",
    "        TempListData = [TempArr]\n",
    "        ReadValJSONfromDB( ConnectDB, TempListKey, TempListData )   \n",
    "\n",
    "        # Считать значение дельты времени обращений к IMU из БД\n",
    "        TimeDeltaAngleKey = ('TimeDeltaAngle',)\n",
    "        TimeDeltaAngleData = [TimeDeltaAngle]\n",
    "        ReadValJSONfromDB( ConnectDB, TimeDeltaAngleKey, TimeDeltaAngleData )\n",
    "\n",
    "        # Считать значение коэффициента Альфа, используемого при вычисления значений углов Эйлера в фильтре слияния\n",
    "        AlphaKey = ('AlphaKey',)\n",
    "        AlphaData = [Alpha]\n",
    "        ReadValJSONfromDB( ConnectDB, AlphaKey, AlphaData )"
   ]
  },
  {
   "cell_type": "code",
   "execution_count": null,
   "metadata": {},
   "outputs": [],
   "source": [
    "ConnectDB =  ConnectDB() # подключение к базе данных Redis"
   ]
  },
  {
   "cell_type": "code",
   "execution_count": null,
   "metadata": {},
   "outputs": [],
   "source": [
    "# Асинхронная функция-обертка для выполнения стороннего кода в асинхронном режиме\n",
    "async def AsyncDataDB():\n",
    "    AsyncFunc = SetInterval( 0.25, AsyncReadDataDB ) # период синхронизации 'ms' и 'fn' чтения данных из БД\n",
    "    AsyncFunc.start()\n",
    "\n",
    "await AsyncDataDB()"
   ]
  },
  {
   "cell_type": "markdown",
   "metadata": {},
   "source": [
    "## Блок считывания данных Акселерометра, Гироскопа, Магнитометра"
   ]
  },
  {
   "cell_type": "code",
   "execution_count": null,
   "metadata": {},
   "outputs": [],
   "source": [
    "# Задать значения режимов работы Акселерометра, Гироскопа, Магнитометра для процедуры калибровки.\n",
    "# ВНИМАНИЕ: для калибровки все сенсоры переводятся в режим наибольшей чувствительности !\n",
    "# Что соответствует наименьшему рабочему диапазону.\n",
    "\n",
    "CONNECT_DB      = ConnectDB # подключение к БД\n",
    "LIMIT_DATA_ARR  =  50       # задать ограничение на размер массива данных сырых данных, углов Эйлера и т.д.\n",
    "LIMIT_WIN_ARR   =  4        # задать размер окна усреднения сырых данных от IMU\n",
    "\n",
    "OPTION_IMU      = { 'GyroFullScale'   : 250\\\n",
    "                    ,'GyroSampleRate' : 50\\\n",
    "                    ,'GyroLowPass'    : 3\\\n",
    "                    ,'AccFullScale'   : 2\\\n",
    "                    ,'AccSampleRate'  : 50\\\n",
    "                    ,'AccLowPass'     : 3\\\n",
    "                    ,'MagSampleRate'  : 50\\\n",
    "                    ,'Isr'            : 137\\\n",
    "                  }"
   ]
  },
  {
   "cell_type": "code",
   "execution_count": null,
   "metadata": {},
   "outputs": [],
   "source": [
    "# Инстанцировать объект ICM20948 IMU сенсора\n",
    "IMU = CalculateAngles(CONNECT_DB, LIMIT_DATA_ARR, LIMIT_WIN_ARR, OPTION_IMU)"
   ]
  },
  {
   "cell_type": "code",
   "execution_count": null,
   "metadata": {},
   "outputs": [],
   "source": [
    "ASYNC_IMU_INTERVAL  = 0.017 # интервал опроса IMU \n",
    "\n",
    "# Код опроса IMU в асинхронном блоке\n",
    "async def AsyncUpdateIMU():\n",
    "    AsyncFunc = SetInterval( ASYNC_IMU_INTERVAL, IMU.UpdateAll )\n",
    "    AsyncFunc.start()\n",
    "\n",
    "await AsyncUpdateIMU() # запуск опроса IMU"
   ]
  },
  {
   "cell_type": "markdown",
   "metadata": {},
   "source": [
    "## Блок калибровки Акселерометра"
   ]
  },
  {
   "attachments": {
    "arduino_acccalibration.png": {
     "image/png": "[encoded data removed]"
    }
   },
   "cell_type": "markdown",
   "metadata": {},
   "source": [
    "![arduino_acccalibration.png](attachment:arduino_acccalibration.png)"
   ]
  },
  {
   "cell_type": "code",
   "execution_count": null,
   "metadata": {},
   "outputs": [],
   "source": [
    "ASYNC_FILL_ACC_INTERVAL = 0.03 # интервал заполнения калибровочными значениями"
   ]
  },
  {
   "cell_type": "code",
   "execution_count": null,
   "metadata": {},
   "outputs": [],
   "source": [
    "'''\n",
    "    Не системная функция 'FillArrPos', предназначена для заполнения массивов\n",
    "    значений Акселерометра на основе которых будет производится калибровка в\n",
    "    соответствии с калибровочным положением\n",
    "'''\n",
    "def FillArrPos(_pos) -> bool:\n",
    "    match _pos:\n",
    "        case 1:\n",
    "            if( len(AccYcalibration1) < AccLimitData ):\n",
    "                AccYcalibration1.append(AccArrRaw[Y_IND][-1])\n",
    "                return False\n",
    "            else:\n",
    "                return True\n",
    "        case 2:\n",
    "            if( len(AccXcalibration2) < AccLimitData ):\n",
    "                AccXcalibration2.append(AccArrRaw[X_IND][-1])\n",
    "                return False\n",
    "            else:\n",
    "                return True\n",
    "        case 3:\n",
    "            if( len(AccYcalibration2) < AccLimitData ):\n",
    "                AccYcalibration2.append(AccArrRaw[Y_IND][-1])\n",
    "                return False\n",
    "            else:\n",
    "                return True\n",
    "        case 4:\n",
    "            if( len(AccXcalibration1) < AccLimitData ):\n",
    "                AccXcalibration1.append(AccArrRaw[X_IND][-1])\n",
    "                return False\n",
    "            else:\n",
    "                return True\n",
    "        case 5:\n",
    "            if( len(AccZcalibration2) < AccLimitData ):\n",
    "                AccZcalibration2.append(AccArrRaw[Z_IND][-1])\n",
    "                return False\n",
    "            else:\n",
    "                return True\n",
    "        case 6:\n",
    "            if( len(AccZcalibration1) < AccLimitData ):\n",
    "                AccZcalibration1.append(AccArrRaw[Z_IND][-1])\n",
    "                return False\n",
    "            else:\n",
    "                return True"
   ]
  },
  {
   "cell_type": "raw",
   "metadata": {
    "vscode": {
     "languageId": "raw"
    }
   },
   "source": [
    "        interval_1 = SetInterval(0.05, FuncUser_1)\n",
    "\n",
    "        interval_1.start()\n",
    "\n",
    "        interval_1.stop()"
   ]
  },
  {
   "cell_type": "code",
   "execution_count": null,
   "metadata": {},
   "outputs": [],
   "source": [
    "# Код опроса IMU в асинхронном блоке\n",
    "async def AsyncFillArrPos(_pos):\n",
    "    global StatusAsyncCode\n",
    "    \n",
    "    AsyncFunc = SetInterval( ASYNC_FILL_ACC_INTERVAL, FillArrPos, _pos )\n",
    "    StatusAsyncCode = True # взвести флаг сигнализирующий о выполнении асинхронного кода\n",
    "    AsyncFunc.start()"
   ]
  },
  {
   "cell_type": "code",
   "execution_count": null,
   "metadata": {},
   "outputs": [],
   "source": [
    "'''\n",
    "    Не системная функция 'ArrPositionCalibrate' выполняет действия по заполнению массивов\n",
    "    с данными для калибровки Акселерометра для каждого Положения в отдельности FillArrPos\n",
    "'''\n",
    "async def ArrPositionCalibrate(_pos):\n",
    "    if(StatusAsyncCode): return # если ранее уже была запущена асинхронная функция\n",
    "\n",
    "    match _pos:\n",
    "        case 1:\n",
    "            await AsyncFillArrPos(_pos) # запуск\n",
    "                "
   ]
  },
  {
   "cell_type": "code",
   "execution_count": null,
   "metadata": {},
   "outputs": [],
   "source": [
    "'''\n",
    "    Не системная функция 'AccCalibrate' выполняет запуск калибровки Акселерометра или\n",
    "    продолжает если она была начата ранее.\n",
    "'''\n",
    "def AccCalibrate(_pos):\n",
    "    global StatusCalibration\n",
    "    \n",
    "    if(StatusCalibration):\n",
    "        StatusCalibration = False # калибровка начата !\n",
    "\n",
    "        AccXcalibration1.clear() # очистка массива для калибровки\n",
    "        AccXcalibration2.clear() # очистка массива для калибровки\n",
    "        AccYcalibration1.clear() # очистка массива для калибровки\n",
    "        AccYcalibration2.clear() # очистка массива для калибровки\n",
    "        AccZcalibration1.clear() # очистка массива для калибровки\n",
    "        AccZcalibration2.clear() # очистка массива для калибровки\n",
    "    \n",
    "    #ArrPositionCalibrate()"
   ]
  },
  {
   "cell_type": "code",
   "execution_count": null,
   "metadata": {},
   "outputs": [],
   "source": [
    "# Создать виджет для вывода, который будет использоваться как всплывающее окно\n",
    "AccButtonOut = widgets.Output(layout={'border': '1px solid black'})\n",
    "\n",
    "# Создаем кнопку, которая будет открывать всплывающее окно\n",
    "AccButton_1 = widgets.Button(layout={'width': '200px'}, description='Калибровка: положение 1')\n",
    "\n",
    "# Функция, которая будет вызываться при нажатии на кнопку\n",
    "def AccOnButtonClick(b):\n",
    "    with AccButtonOut:\n",
    "        # Очищаем предыдущий вывод в окне, если он есть\n",
    "        AccButtonOut.clear_output()\n",
    "        # Выводим сообщение (или любой другой контент)\n",
    "        print('Калибровка d Положению 1 запущена!')\n",
    "\n",
    "# Привязываем функцию к событию нажатия на кнопку\n",
    "AccButton_1.on_click(AccOnButtonClick)\n",
    "\n",
    "# Отображаем кнопку\n",
    "display(AccButton_1)\n",
    "\n",
    "# Отображаем виджет вывода (всплывающее окно). Оно будет изначально пустым.\n",
    "display(AccButtonOut)"
   ]
  },
  {
   "cell_type": "markdown",
   "metadata": {},
   "source": [
    "# Блок калибровки углов Гироскопа"
   ]
  },
  {
   "cell_type": "code",
   "execution_count": null,
   "metadata": {},
   "outputs": [],
   "source": []
  },
  {
   "cell_type": "markdown",
   "metadata": {},
   "source": [
    "# Блок калибровки Магнетометра"
   ]
  },
  {
   "cell_type": "code",
   "execution_count": null,
   "metadata": {},
   "outputs": [],
   "source": []
  }
 ],
 "metadata": {
  "language_info": {
   "name": "python"
  }
 },
 "nbformat": 4,
 "nbformat_minor": 2
}
