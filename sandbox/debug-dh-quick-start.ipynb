{
 "cells": [
  {
   "cell_type": "code",
   "execution_count": 1,
   "metadata": {
    "tags": []
   },
   "outputs": [
    {
     "name": "stdout",
     "output_type": "stream",
     "text": [
      "# Starting io.deephaven.python.server.EmbeddedServer\n",
      "deephaven.cacheDir=C:\\Users\\Иван Кукушкин\\AppData\\Local\\Deephaven Data Labs\\deephaven\\cache\n",
      "deephaven.configDir=C:\\Users\\Иван Кукушкин\\AppData\\Roaming\\Deephaven Data Labs\\deephaven\\config\n",
      "deephaven.dataDir=C:\\Users\\Иван Кукушкин\\AppData\\Roaming\\Deephaven Data Labs\\deephaven\\data\n",
      "# io.deephaven.internal.log.LoggerFactoryServiceLoaderImpl: searching for 'io.deephaven.internal.log.LoggerFactory'...\n",
      "# io.deephaven.internal.log.LoggerFactoryServiceLoaderImpl: found 'io.deephaven.internal.log.LoggerFactorySlf4j'\n",
      "Server started on port 8080\n"
     ]
    }
   ],
   "source": [
    "from deephaven_server import Server\n",
    "from pydeephaven import Session\n",
    "\n",
    "# Запуск сервера Deephaven\n",
    "#s = Server(port=8080, jvm_args=[\"-Dauthentication.psk=ivan\"])\n",
    "s = Server(port=8080, jvm_args=[\"-DAuthHandlers=io.deephaven.auth.AnonymousAuthenticationHandler\"])\n",
    "s.start()"
   ]
  },
  {
   "cell_type": "code",
   "execution_count": 2,
   "metadata": {
    "tags": []
   },
   "outputs": [],
   "source": [
    "import numpy as np\n",
    "import random\n",
    "\n",
    "import deephaven_server\n",
    "from pydeephaven import Session\n",
    "from deephaven.time import to_j_duration\n",
    "#server = deephaven_server.Server(host=\"localhost\", port=8080)\n",
    "#sdh = Session(port=8080)\n",
    "from deephaven import time_table\n",
    "from deephaven import new_table\n",
    "from deephaven.numpy import to_table\n",
    "from deephaven.column import int_col\n",
    "from deephaven.column import double_col"
   ]
  },
  {
   "cell_type": "code",
   "execution_count": 3,
   "metadata": {},
   "outputs": [],
   "source": [
    "# Создаем массив углов от 0 до 355 включительно с шагом 5\n",
    "angle_arr = np.arange(0, 356, 5)\n",
    "# Переводим углы из градусов в радианы для вычисления синуса\n",
    "sin_arr = np.sin(np.deg2rad(angle_arr))\n",
    "# Объединяем массивы в переменную date_sin\n",
    "date_sin = (angle_arr, sin_arr)\n",
    "# Вывод результатов\n",
    "#print(\"Массив углов:\")\n",
    "#print(angle_arr)\n",
    "#print(\"\\nМассив значений синусоиды:\")\n",
    "#print(sin_arr)"
   ]
  },
  {
   "cell_type": "code",
   "execution_count": 6,
   "metadata": {
    "tags": []
   },
   "outputs": [
    {
     "data": {
      "text/plain": [
       "deephaven.table.Table(io.deephaven.engine.table.Table(objectRef=0x000002163606B082, num_rows = 72, columns = {'X':...}))"
      ]
     },
     "metadata": {},
     "output_type": "display_data"
    }
   ],
   "source": [
    "t_sin = new_table([double_col(\"X\", sin_arr)])\n",
    "display(t_sin)"
   ]
  },
  {
   "cell_type": "code",
   "execution_count": null,
   "metadata": {
    "tags": []
   },
   "outputs": [],
   "source": [
    "new_date = [random.uniform(-1, 1) for i in range(72)]\n",
    "#print(new_date)"
   ]
  },
  {
   "cell_type": "code",
   "execution_count": 34,
   "metadata": {
    "tags": []
   },
   "outputs": [],
   "source": [
    "#t_sin = t_sin.update(formula=[\"X = new_date\"])\n",
    "new_date = [random.uniform(-1, 1) for i in range(72)]\n",
    "t_sin = new_table([double_col(\"X\", new_date)])"
   ]
  },
  {
   "cell_type": "code",
   "execution_count": 7,
   "metadata": {
    "tags": []
   },
   "outputs": [],
   "source": [
    "from deephaven import DynamicTableWriter\n",
    "import deephaven.dtypes as dht\n",
    "\n",
    "import random, string, threading, time\n",
    "\n",
    "# Create a DynamicTableWriter with two columns: `A`(int) and `B`(String)\n",
    "table_writer = DynamicTableWriter({\"A\": dht.int_, \"B\": dht.string})\n",
    "\n",
    "result = table_writer.table\n",
    "\n",
    "\n",
    "# Function to log data to the dynamic table\n",
    "def thread_func():\n",
    "    # for loop that defines how much data to populate to the table\n",
    "    for i in range(10):\n",
    "        # the data to put into the table\n",
    "        a = random.randint(1, 100)\n",
    "        b = random.choice(string.ascii_letters)\n",
    "\n",
    "        # The write_row method adds a row to the table\n",
    "        table_writer.write_row(a, b)\n",
    "\n",
    "        # seconds between new rows inserted into the table\n",
    "        time.sleep(1)\n",
    "\n",
    "\n",
    "# Thread to log data to the dynamic table\n",
    "thread = threading.Thread(target=thread_func)\n",
    "thread.start()"
   ]
  },
  {
   "cell_type": "code",
   "execution_count": 17,
   "metadata": {
    "tags": []
   },
   "outputs": [],
   "source": [
    "from deephaven import DynamicTableWriter, time_table\n",
    "import deephaven.dtypes as dht\n",
    "import numpy as np\n",
    "import threading\n",
    "import time\n",
    "\n",
    "# Функция для обновления данных в таблице\n",
    "def update_table(writer, interval=0.2):\n",
    "    while True:\n",
    "        # Создаем новый массив значений синуса\n",
    "        angle_arr = np.arange(0, 356, 5)\n",
    "        sin_arr = np.sin(np.deg2rad(angle_arr))\n",
    "        \n",
    "        # Обновляем таблицу новыми значениями\n",
    "        for sin_value in sin_arr:\n",
    "            writer.write_row(sin_value)\n",
    "        \n",
    "        # Ожидаем заданный интервал времени перед следующим обновлением\n",
    "        time.sleep(interval)\n",
    "\n",
    "# Создаем DynamicTableWriter с одним столбцом 'X'\n",
    "writer = DynamicTableWriter({\"X\": dht.double})\n",
    "\n",
    "# Получаем динамическую таблицу из DynamicTableWriter\n",
    "t_sin_dynamic = writer.table\n",
    "\n",
    "# Запускаем фоновый поток для обновления таблицы\n",
    "thread = threading.Thread(target=update_table, args=(writer,))\n",
    "thread.start()\n"
   ]
  }
 ],
 "metadata": {
  "kernelspec": {
   "display_name": "Python 3 (ipykernel)",
   "language": "python",
   "name": "python3"
  },
  "language_info": {
   "codemirror_mode": {
    "name": "ipython",
    "version": 3
   },
   "file_extension": ".py",
   "mimetype": "text/x-python",
   "name": "python",
   "nbconvert_exporter": "python",
   "pygments_lexer": "ipython3",
   "version": "3.11.7"
  }
 },
 "nbformat": 4,
 "nbformat_minor": 4
}
