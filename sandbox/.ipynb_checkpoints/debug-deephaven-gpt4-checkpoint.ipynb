{
 "cells": [
  {
   "cell_type": "code",
   "execution_count": null,
   "metadata": {},
   "outputs": [],
   "source": [
    "import numpy as np\n",
    "\n",
    "from pydeephaven import Session\n",
    "sdh = Session(port=8080)\n",
    "\n",
    "from deephaven import dh_table\n",
    "from deephaven.plot.figure import Figure\n",
    "from deephaven_ipywidgets import DeephavenWidget\n",
    "#from deephaven.TableTools import new_table, string_col, double_col\n",
    "\n",
    "# Предполагаем, что arr - это ваш массив данных\n",
    "arr = np.random.rand(10)\n",
    "\n",
    "# Создаем таблицу Deephaven из массива arr\n",
    "table = sdh.dh_table( [double_col(\"Data\", arr)] )\n",
    "#table = dh_table(1000).update(\"x=i\")\n",
    "\n",
    "# Создаем таймер, который обновляется 5 раз в секунду\n",
    "timer = time_table(\"00:00:00.200\").update(\"K = i\")\n",
    "\n",
    "# Объединяем таймер с таблицей данных, чтобы триггерить обновление\n",
    "dynamic_table = timer.join(table, \"K\", \"I\", \"ajoin=True\")\n",
    "\n",
    "# Создаем график на основе динамической таблицы\n",
    "figure = Figure().plot_xy(series_name=\"Series1\", t=dynamic_table, x=\"K\", y=\"Data\")\n",
    "\n",
    "# Отображаем график в Jupyter Lab\n",
    "display(DeephavenWidget(figure))"
   ]
  },
  {
   "cell_type": "code",
   "execution_count": null,
   "metadata": {},
   "outputs": [],
   "source": [
    "'''\n",
    "#python\n",
    "# Create a table and display it\n",
    "from deephaven import empty_table\n",
    "from deephaven_ipywidgets import DeephavenWidget\n",
    "t = empty_table(1000).update(\"x=i\")\n",
    "display(DeephavenWidget(t))\n",
    "'''"
   ]
  }
 ],
 "metadata": {
  "language_info": {
   "name": "python"
  }
 },
 "nbformat": 4,
 "nbformat_minor": 2
}
