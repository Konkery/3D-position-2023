{
 "cells": [
  {
   "cell_type": "markdown",
   "metadata": {},
   "source": [
    "### Тест - отображения таблиц и графиков через библиотеку DeepHaven"
   ]
  },
  {
   "cell_type": "code",
   "execution_count": 1,
   "metadata": {},
   "outputs": [
    {
     "name": "stdout",
     "output_type": "stream",
     "text": [
      "# Starting io.deephaven.python.server.EmbeddedServer\n",
      "deephaven.cacheDir=C:\\Users\\Иван Кукушкин\\AppData\\Local\\Deephaven Data Labs\\deephaven\\cache\n",
      "deephaven.configDir=C:\\Users\\Иван Кукушкин\\AppData\\Roaming\\Deephaven Data Labs\\deephaven\\config\n",
      "deephaven.dataDir=C:\\Users\\Иван Кукушкин\\AppData\\Roaming\\Deephaven Data Labs\\deephaven\\data\n",
      "# io.deephaven.internal.log.LoggerFactoryServiceLoaderImpl: searching for 'io.deephaven.internal.log.LoggerFactory'...\n",
      "# io.deephaven.internal.log.LoggerFactoryServiceLoaderImpl: found 'io.deephaven.internal.log.LoggerFactorySlf4j'\n",
      "Server started on port 10000\n"
     ]
    }
   ],
   "source": [
    "# Start up the Deephaven Server\n",
    "from deephaven_server import Server\n",
    "#s = Server(port=10000, jvm_args=[\"-Dauthentication.psk=iris\"])\n",
    "s = Server(port=10000, jvm_args=[\"-Dauthentication.psk=ivan\"])\n",
    "s.start()"
   ]
  },
  {
   "cell_type": "code",
   "execution_count": null,
   "metadata": {
    "tags": []
   },
   "outputs": [],
   "source": [
    "import deephaven_server\n",
    "from pydeephaven import Session\n",
    "\n",
    "server = deephaven_server.Server(host=\"localhost\", port=10000)\n",
    "session = Session(host='localhost', port=10000)"
   ]
  },
  {
   "cell_type": "code",
   "execution_count": 2,
   "metadata": {
    "tags": []
   },
   "outputs": [],
   "source": [
    "from deephaven import time_table\n",
    "from deephaven.plot.figure import Figure\n",
    "from pydeephaven import Session, agg\n",
    "from deephaven_ipywidgets import DeephavenWidget"
   ]
  },
  {
   "cell_type": "code",
   "execution_count": 3,
   "metadata": {
    "tags": []
   },
   "outputs": [
    {
     "data": {
      "application/vnd.jupyter.widget-view+json": {
       "model_id": "9273cbf8050a4de9aeb9eecc032dfe40",
       "version_major": 2,
       "version_minor": 0
      },
      "text/plain": [
       "DeephavenWidget(height=600, iframe_url='http://localhost:10000/iframe/table/?name=_93bae41e_3a3c_435a_aa48_db5…"
      ]
     },
     "metadata": {},
     "output_type": "display_data"
    }
   ],
   "source": [
    "# Create a table and display it\n",
    "\n",
    "my_timetable = session.time_table(period=1000000000).update([\"X = 0.1 * i\", \"Y = sin(X)\"])\n",
    "session.bind_table(name=\"my_time_table\", table=my_timetable)\n",
    "display(DeephavenWidget(my_timetable))\n",
    "\n",
    "#table = session.empty_table(10)\n",
    "#table = table.update([\"Count = i\", \"Group = i % 2\"])\n",
    "\n",
    "#my_agg = agg.avg([\"Count\"])\n",
    "\n",
    "#table = table.agg_by(aggs=[my_agg], by=[\"Group\"])\n",
    "#session.bind_table(name=\"my_table\", table=table)\n"
   ]
  },
  {
   "cell_type": "code",
   "execution_count": 3,
   "metadata": {
    "tags": []
   },
   "outputs": [
    {
     "data": {
      "application/vnd.jupyter.widget-view+json": {
       "model_id": "af4c5159f0a64e869fbddd9e907fc423",
       "version_major": 2,
       "version_minor": 0
      },
      "text/plain": [
       "DeephavenWidget(height=600, iframe_url='http://localhost:10000/iframe/table/?name=_b2c5cf5b_8573_4a59_99fc_043…"
      ]
     },
     "metadata": {},
     "output_type": "display_data"
    }
   ],
   "source": [
    "# Create a table and display it\n",
    "\n",
    "#t1 = time_table(\"PT1S\").update([\"x=i\", \"y=Math.sin(i)\"])\n",
    "t2 = time_table(period=1000000000).update([\"x = 0.1 * i\", \"y = sin(x)\"])\n",
    "display(DeephavenWidget(t2))"
   ]
  },
  {
   "cell_type": "code",
   "execution_count": 4,
   "metadata": {
    "tags": []
   },
   "outputs": [
    {
     "data": {
      "application/vnd.jupyter.widget-view+json": {
       "model_id": "52f9ed581d8c4007a32ad2f2b472055e",
       "version_major": 2,
       "version_minor": 0
      },
      "text/plain": [
       "DeephavenWidget(height=600, iframe_url='http://localhost:10000/iframe/chart/?name=_177b6dcf_116e_403c_aa68_3c7…"
      ]
     },
     "metadata": {},
     "output_type": "display_data"
    }
   ],
   "source": [
    "# Create a figure and display it\n",
    "\n",
    "f = Figure().plot_xy(series_name=\"Figure2\", t=t2, x=\"x\", y=\"y\").show()\n",
    "display(DeephavenWidget(f))"
   ]
  },
  {
   "cell_type": "code",
   "execution_count": 4,
   "metadata": {
    "tags": []
   },
   "outputs": [
    {
     "name": "stdout",
     "output_type": "stream",
     "text": [
      "deephaven.table.Table(io.deephaven.engine.table.Table(objectRef=0x00000205474B81F2, num_rows = 70, columns = {'Tim...}))\n"
     ]
    }
   ],
   "source": [
    "print(t)"
   ]
  },
  {
   "cell_type": "code",
   "execution_count": null,
   "metadata": {
    "tags": []
   },
   "outputs": [],
   "source": [
    "\n",
    "\n",
    "# Create a table and display it\n",
    "my_timetable = session.time_table(period=1000000000).update([\"X = 0.1 * i\", \"Y = sin(X)\"])\n",
    "session.bind_table(name=\"my_time_table\", table=my_timetable)\n",
    "display(DeephavenWidget(my_timetable))\n",
    "\n",
    "table = session.empty_table(10)\n",
    "table = table.update([\"Count = i\", \"Group = i % 2\"])\n",
    "\n",
    "my_agg = agg.avg([\"Count\"])\n",
    "\n",
    "table = table.agg_by(aggs=[my_agg], by=[\"Group\"])\n",
    "session.bind_table(name=\"my_table\", table=table)"
   ]
  }
 ],
 "metadata": {
  "kernelspec": {
   "display_name": "Python 3 (ipykernel)",
   "language": "python",
   "name": "python3"
  },
  "language_info": {
   "codemirror_mode": {
    "name": "ipython",
    "version": 3
   },
   "file_extension": ".py",
   "mimetype": "text/x-python",
   "name": "python",
   "nbconvert_exporter": "python",
   "pygments_lexer": "ipython3",
   "version": "3.11.7"
  }
 },
 "nbformat": 4,
 "nbformat_minor": 4
}
