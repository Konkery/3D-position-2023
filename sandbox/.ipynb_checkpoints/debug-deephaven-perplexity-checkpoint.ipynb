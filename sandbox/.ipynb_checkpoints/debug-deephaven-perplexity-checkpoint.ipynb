{
 "cells": [
  {
   "cell_type": "code",
   "execution_count": null,
   "metadata": {},
   "outputs": [],
   "source": [
    "import numpy as np\n",
    "import time\n",
    "from deephaven import Server\n",
    "from deephaven.plot.figure import Figure\n",
    "from deephaven.ipc import table_pb2\n",
    "from pydeephaven import Session\n",
    "\n",
    "session = Session()\n",
    "\n",
    "# Создайте временную таблицу с теми же данными, что и в массиве arr\n",
    "t = table(table_pb2.TableDefinition(\n",
    "    columns=[\n",
    "        table_pb2.ColumnDescription(name=\"x\", type=table_pb2.INT),\n",
    "        table_pb2.ColumnDescription(name=\"y\", type=table_pb2.DOUBLE)\n",
    "    ]\n",
    "))\n",
    "\n",
    "# Создайте и отобразите фигуру\n",
    "f = Figure().plot_xy(series_name=\"Figure\", t=t, x=\"x\", y=\"y\").show()\n",
    "\n",
    "# Подпишитесь на обновления временной таблицы\n",
    "def update_chart(t):\n",
    "    f.update_xy(t)\n",
    "\n",
    "t.subscribe(update_chart)\n",
    "\n",
    "# Запустите асинхронную функцию для генерации синусоиды\n",
    "async def generate_sinusoid():\n",
    "    arr = []\n",
    "    while True:\n",
    "        arr.append(np.sin(time.time()))\n",
    "        t.update({\"x\": range(len(arr)), \"y\": arr})\n",
    "        await asyncio.sleep(0.2)\n",
    "\n",
    "\n",
    "# Запустите цикл событий асинхронно\n",
    "asyncio.create_task(generate_sinusoid())\n",
    "asyncio.get_event_loop().run_forever()"
   ]
  }
 ],
 "metadata": {
  "language_info": {
   "name": "python"
  }
 },
 "nbformat": 4,
 "nbformat_minor": 2
}
