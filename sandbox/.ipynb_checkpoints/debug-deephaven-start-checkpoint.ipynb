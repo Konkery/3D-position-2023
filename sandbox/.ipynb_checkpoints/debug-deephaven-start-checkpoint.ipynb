{
 "cells": [
  {
   "cell_type": "code",
   "execution_count": null,
   "metadata": {
    "tags": []
   },
   "outputs": [],
   "source": [
    "from deephaven_server import Server\n",
    "from pydeephaven import Session\n",
    "\n",
    "# Запуск сервера Deephaven\n",
    "#s = Server(port=8080, jvm_args=[\"-Dauthentication.psk=ivan\"])\n",
    "s = Server(port=8080, jvm_args=[\"-DAuthHandlers=io.deephaven.auth.AnonymousAuthenticationHandler\"])\n",
    "s.start()"
   ]
  }
 ],
 "metadata": {
  "kernelspec": {
   "display_name": "Python 3 (ipykernel)",
   "language": "python",
   "name": "python3"
  },
  "language_info": {
   "codemirror_mode": {
    "name": "ipython",
    "version": 3
   },
   "file_extension": ".py",
   "mimetype": "text/x-python",
   "name": "python",
   "nbconvert_exporter": "python",
   "pygments_lexer": "ipython3",
   "version": "3.11.7"
  }
 },
 "nbformat": 4,
 "nbformat_minor": 4
}
