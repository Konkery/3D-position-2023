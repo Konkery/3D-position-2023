{
 "cells": [
  {
   "cell_type": "code",
   "execution_count": 1,
   "metadata": {
    "tags": []
   },
   "outputs": [
    {
     "ename": "RuntimeError",
     "evalue": "The Deephaven Server has not been initialized. Please ensure that deephaven_server.Server has been constructed before importing deephaven.",
     "output_type": "error",
     "traceback": [
      "\u001b[1;31m---------------------------------------------------------------------------\u001b[0m",
      "\u001b[1;31mRuntimeError\u001b[0m                              Traceback (most recent call last)",
      "Cell \u001b[1;32mIn[1], line 6\u001b[0m\n\u001b[0;32m      3\u001b[0m \u001b[38;5;28;01mfrom\u001b[39;00m \u001b[38;5;21;01mpydeephaven\u001b[39;00m \u001b[38;5;28;01mimport\u001b[39;00m Session\n\u001b[0;32m      4\u001b[0m sdh \u001b[38;5;241m=\u001b[39m Session(port\u001b[38;5;241m=\u001b[39m\u001b[38;5;241m8080\u001b[39m)\n\u001b[1;32m----> 6\u001b[0m \u001b[38;5;28;01mfrom\u001b[39;00m \u001b[38;5;21;01mdeephaven\u001b[39;00m \u001b[38;5;28;01mimport\u001b[39;00m dh_table\n\u001b[0;32m      7\u001b[0m \u001b[38;5;28;01mfrom\u001b[39;00m \u001b[38;5;21;01mdeephaven\u001b[39;00m\u001b[38;5;21;01m.\u001b[39;00m\u001b[38;5;21;01mplot\u001b[39;00m\u001b[38;5;21;01m.\u001b[39;00m\u001b[38;5;21;01mfigure\u001b[39;00m \u001b[38;5;28;01mimport\u001b[39;00m Figure\n\u001b[0;32m      8\u001b[0m \u001b[38;5;28;01mfrom\u001b[39;00m \u001b[38;5;21;01mdeephaven_ipywidgets\u001b[39;00m \u001b[38;5;28;01mimport\u001b[39;00m DeephavenWidget\n",
      "File \u001b[1;32mc:\\Anaconda\\envs\\jupyterlab-debugger\\Lib\\site-packages\\deephaven\\__init__.py:15\u001b[0m\n\u001b[0;32m     12\u001b[0m \u001b[38;5;28;01mfrom\u001b[39;00m \u001b[38;5;21;01mdeephaven_internal\u001b[39;00m \u001b[38;5;28;01mimport\u001b[39;00m jvm\n\u001b[0;32m     14\u001b[0m \u001b[38;5;28;01mtry\u001b[39;00m:\n\u001b[1;32m---> 15\u001b[0m     \u001b[43mjvm\u001b[49m\u001b[38;5;241;43m.\u001b[39;49m\u001b[43mcheck_ready\u001b[49m\u001b[43m(\u001b[49m\u001b[43m)\u001b[49m\n\u001b[0;32m     16\u001b[0m \u001b[38;5;28;01mfinally\u001b[39;00m:\n\u001b[0;32m     17\u001b[0m     \u001b[38;5;28;01mdel\u001b[39;00m jvm\n",
      "File \u001b[1;32mc:\\Anaconda\\envs\\jupyterlab-debugger\\Lib\\site-packages\\deephaven_internal\\jvm\\__init__.py:23\u001b[0m, in \u001b[0;36mcheck_ready\u001b[1;34m()\u001b[0m\n\u001b[0;32m     21\u001b[0m \u001b[38;5;28;01mglobal\u001b[39;00m _is_ready\n\u001b[0;32m     22\u001b[0m \u001b[38;5;28;01mif\u001b[39;00m \u001b[38;5;129;01mnot\u001b[39;00m _is_ready:\n\u001b[1;32m---> 23\u001b[0m     \u001b[38;5;28;01mraise\u001b[39;00m \u001b[38;5;167;01mRuntimeError\u001b[39;00m(\u001b[38;5;124m\"\u001b[39m\u001b[38;5;124mThe Deephaven Server has not been initialized. \u001b[39m\u001b[38;5;124m\"\u001b[39m\n\u001b[0;32m     24\u001b[0m                     \u001b[38;5;124m\"\u001b[39m\u001b[38;5;124mPlease ensure that deephaven_server.Server has been constructed before importing deephaven.\u001b[39m\u001b[38;5;124m\"\u001b[39m)\n",
      "\u001b[1;31mRuntimeError\u001b[0m: The Deephaven Server has not been initialized. Please ensure that deephaven_server.Server has been constructed before importing deephaven."
     ]
    }
   ],
   "source": [
    "import numpy as np\n",
    "\n",
    "from pydeephaven import Session\n",
    "sdh = Session(port=8080)\n",
    "\n",
    "from deephaven import dh_table\n",
    "from deephaven.plot.figure import Figure\n",
    "from deephaven_ipywidgets import DeephavenWidget\n",
    "#from deephaven.TableTools import new_table, string_col, double_col\n",
    "\n",
    "# Предполагаем, что arr - это ваш массив данных\n",
    "arr = np.random.rand(10)\n",
    "\n",
    "# Создаем таблицу Deephaven из массива arr\n",
    "table = sdh.dh_table( [double_col(\"Data\", arr)] )\n",
    "#table = dh_table(1000).update(\"x=i\")\n",
    "\n",
    "# Создаем таймер, который обновляется 5 раз в секунду\n",
    "timer = time_table(\"00:00:00.200\").update(\"K = i\")\n",
    "\n",
    "# Объединяем таймер с таблицей данных, чтобы триггерить обновление\n",
    "dynamic_table = timer.join(table, \"K\", \"I\", \"ajoin=True\")\n",
    "\n",
    "# Создаем график на основе динамической таблицы\n",
    "figure = Figure().plot_xy(series_name=\"Series1\", t=dynamic_table, x=\"K\", y=\"Data\")\n",
    "\n",
    "# Отображаем график в Jupyter Lab\n",
    "display(DeephavenWidget(figure))"
   ]
  },
  {
   "cell_type": "code",
   "execution_count": null,
   "metadata": {},
   "outputs": [],
   "source": [
    "'''\n",
    "#python\n",
    "# Create a table and display it\n",
    "from deephaven import empty_table\n",
    "from deephaven_ipywidgets import DeephavenWidget\n",
    "t = empty_table(1000).update(\"x=i\")\n",
    "display(DeephavenWidget(t))\n",
    "'''"
   ]
  }
 ],
 "metadata": {
  "kernelspec": {
   "display_name": "Python 3 (ipykernel)",
   "language": "python",
   "name": "python3"
  },
  "language_info": {
   "codemirror_mode": {
    "name": "ipython",
    "version": 3
   },
   "file_extension": ".py",
   "mimetype": "text/x-python",
   "name": "python",
   "nbconvert_exporter": "python",
   "pygments_lexer": "ipython3",
   "version": "3.11.7"
  }
 },
 "nbformat": 4,
 "nbformat_minor": 4
}
