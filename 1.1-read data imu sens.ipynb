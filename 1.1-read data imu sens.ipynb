{
 "cells": [
  {
   "cell_type": "markdown",
   "id": "54149f99",
   "metadata": {
    "editable": true,
    "slideshow": {
     "slide_type": ""
    },
    "tags": []
   },
   "source": [
    "## СТАРТОВЫЙ МОДУЛЬ\n",
    "---\n",
    "ДАННЫЙ МОДУЛЬ ПРЕДНАЗНАЧЕН ДЛЯ ИНИЦИИРОВАНИЯ МИКРОСХЕМЫ IMU, ЗАПУСКА ЦИКЛА СЧИТЫВАНИЯ ПОКАЗАНИЙ СЕНСОРОВ, РАСЧЕТА УГЛОВ ЭЙЛЕРА ПО ВСЕМ ДОСТУПНЫМ КАНАЛАМ."
   ]
  },
  {
   "cell_type": "markdown",
   "id": "8015916b",
   "metadata": {},
   "source": [
    "### Блок импорта библиотек необходимых для работы модуля"
   ]
  },
  {
   "cell_type": "code",
   "execution_count": null,
   "id": "6f41d2a0-0f53-456b-b264-2ce4b256ab11",
   "metadata": {
    "tags": []
   },
   "outputs": [
    {
     "name": "stderr",
     "output_type": "stream",
     "text": [
      "/usr/local/lib/python3.9/dist-packages/matplotlib/projections/__init__.py:63: UserWarning: Unable to import Axes3D. This may be due to multiple versions of Matplotlib being installed (e.g. as a system package and as a pip package). As a result, the 3D projection is not available.\n",
      "  warnings.warn(\"Unable to import Axes3D. This may be due to multiple versions of \"\n"
     ]
    }
   ],
   "source": [
    "# Подключить библиотеки для мат обработки данных и генерации случайных данных\n",
    "import numpy as np\n",
    "import random\n",
    "import math\n",
    "\n",
    "# Подключить библиотеки для работы с датой/временем\n",
    "from datetime import datetime\n",
    "from time import sleep\n",
    "\n",
    "# Подключить библиотеки для асинхронной работы\n",
    "import asyncio\n",
    "# Подключить библиотеки для работы с базой данных redis\n",
    "import redis\n",
    "# Подключить библиотеки для работы с JSON\n",
    "import json\n",
    "# Подключить библиотеки для работы с завершающими функциями Jupyter Lab\n",
    "import atexit\n",
    "\n",
    "# ------------------------------------------------------------------------\n",
    "# Подключить пользовательские модули\n",
    "# ------------------------------------------------------------------------\n",
    "import sys\n",
    "sys.path.append('/home/project/3D-position-2023/py/lib')\n",
    "\n",
    "# Подключить модуль для работы с данными IMU сенсоров\n",
    "from py.lib.lib_calculate_angles_rev01_v01 import CalculateAngles\n",
    "# Работа с интервалами в стиле setInterval JavaScript\n",
    "from py.lib.lib_setinterval_rev01_v01 import SetInterval\n",
    "# Подключить модуль для работы с базой данных redis\n",
    "from py.lib.lib_work_redis_rev01_v01 import *"
   ]
  },
  {
   "cell_type": "markdown",
   "id": "43e23adb",
   "metadata": {},
   "source": [
    "### Блок настроек среды исполнения Jupyter lab"
   ]
  },
  {
   "cell_type": "code",
   "execution_count": 2,
   "id": "27aa6c84",
   "metadata": {
    "tags": []
   },
   "outputs": [],
   "source": [
    "# Инструкция требующая повторно перезагружать пользовательские функции после изменения их кода\n",
    "%load_ext autoreload\n",
    "%autoreload 2"
   ]
  },
  {
   "cell_type": "markdown",
   "id": "0d9b91b0",
   "metadata": {},
   "source": [
    "### Блок считывания данных с сенсоров: Акселерометра, Гироскопа, Магнитометра"
   ]
  },
  {
   "cell_type": "code",
   "execution_count": null,
   "id": "b3e93847",
   "metadata": {},
   "outputs": [],
   "source": [
    "# Подготовить параметры для инстанцирования IMU объекта и асинхронного считывания и пересчета данных\n",
    "CONNECT_DB      = ConnectDB() # сохранить подключение к БД\n",
    "LIMIT_DATA_ARR  =  50 # задать ограничение на размер массива данных сырых данных, углов Эйлера и т.д.\n",
    "LIMIT_WIN_ARR   =  4 # задать размер окна усреднения сырых данных от IMU\n",
    "OPTION_IMU      = {\n",
    "    'GyroFullScale'  : 1000,\n",
    "    'GyroSampleRate' : 50,\n",
    "    'GyroLowPass'    : 3,\n",
    "    'AccFullScale'   : 2,\n",
    "    'AccSampleRate'  : 50,\n",
    "    'AccLowPass'     : 3,\n",
    "    'MagSampleRate'  : 50,\n",
    "    'Isr'            : 137\n",
    "}\n",
    "\n",
    "ASYNC_IMU_INTERVAL  = 0.03 # интервал опроса IMU"
   ]
  },
  {
   "cell_type": "code",
   "execution_count": null,
   "id": "415039a7",
   "metadata": {},
   "outputs": [],
   "source": [
    "# Инстанцировать объект ICM20948 IMU сенсора\n",
    "IMU = CalculateAngles(CONNECT_DB, LIMIT_DATA_ARR, LIMIT_WIN_ARR)"
   ]
  },
  {
   "cell_type": "code",
   "execution_count": null,
   "id": "b9cd30d9",
   "metadata": {},
   "outputs": [],
   "source": [
    "#def cleanup_imu():\n",
    "#    IMU.ICM20948.powerOff() # завершающий код для корректного выключения IMU\n",
    "#    print(\"Завершающая функция вызвана!\")\n",
    "## Регистрируем функцию cleanup_imu для вызова при завершении работы программы\n",
    "#atexit.register(cleanup_imu)\n",
    "\n",
    "# Код опроса IMU в асинхронном блоке\n",
    "async def AsyncUpdateIMU():\n",
    "    AsyncFunc = SetInterval( ASYNC_IMU_INTERVAL, IMU.UpdateAll )\n",
    "    AsyncFunc.start()\n",
    "\n",
    "await AsyncUpdateIMU()"
   ]
  }
 ],
 "metadata": {
  "kernelspec": {
   "display_name": "Python 3 (ipykernel)",
   "language": "python",
   "name": "python3"
  },
  "language_info": {
   "codemirror_mode": {
    "name": "ipython",
    "version": 3
   },
   "file_extension": ".py",
   "mimetype": "text/x-python",
   "name": "python",
   "nbconvert_exporter": "python",
   "pygments_lexer": "ipython3",
   "version": "3.9.2"
  }
 },
 "nbformat": 4,
 "nbformat_minor": 5
}
