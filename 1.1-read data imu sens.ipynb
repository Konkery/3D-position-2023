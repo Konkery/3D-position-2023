{
 "cells": [
  {
   "cell_type": "markdown",
   "id": "54149f99",
   "metadata": {
    "editable": true,
    "slideshow": {
     "slide_type": ""
    },
    "tags": []
   },
   "source": [
    "## СТАРТОВЫЙ МОДУЛЬ\n",
    "---\n",
    "ДАННЫЙ МОДУЛЬ ПРЕДНАЗНАЧЕН ДЛЯ ИНИЦИИРОВАНИЯ МИКРОСХЕМЫ IMU, ЗАПУСКА ЦИКЛА СЧИТЫВАНИЯ ПОКАЗАНИЙ СЕНСОРОВ. ТАКЖЕ МОДУЛЬ ОТВЕЧАЕТ ЗА ОРГАНИЗАЦИЮ МНОГОПРОЦЕССНОЙ РАБОТЫ ВСЕХ УРОВНЕЙ ПО ПРОЕКТА"
   ]
  },
  {
   "cell_type": "markdown",
   "id": "8015916b",
   "metadata": {},
   "source": [
    "### Блок импорта библиотек необходимых для работы проекта"
   ]
  },
  {
   "cell_type": "code",
   "execution_count": 4,
   "id": "6f41d2a0-0f53-456b-b264-2ce4b256ab11",
   "metadata": {
    "tags": []
   },
   "outputs": [],
   "source": [
    "# Подключить библиотеки для мат обработки данных и генерации случайных данных\n",
    "import numpy as np\n",
    "import random\n",
    "import math\n",
    "\n",
    "# Подключить библиотеки для работы с 2D графиками\n",
    "import matplotlib.pyplot as plt\n",
    "from matplotlib.ticker import MultipleLocator, FormatStrFormatter, AutoMinorLocator, NullFormatter\n",
    "\n",
    "# Подключить библиотеки для работы анимацией\n",
    "import matplotlib.animation as an\n",
    "\n",
    "# Подключить библиотеки для работы с виджетами в Jupyter Lab\n",
    "from IPython.display import display\n",
    "import ipywidgets as widgets\n",
    "\n",
    "# Подключить библиотеки для работы с завершающими функциями Jupyter Lab\n",
    "import atexit\n",
    "\n",
    "# Подключить библиотеки для работы с датой/временем\n",
    "from datetime import datetime\n",
    "from time import sleep\n",
    "\n",
    "# Подключить библиотеки для асинхронной работы\n",
    "import asyncio\n",
    "\n",
    "# Подключить пользовательские модули\n",
    "# ---\n",
    "# Работа с интервалами в стиле setInterval JavaScript\n",
    "from py.lib.lib_setinterval_rev01_v01 import SetInterval\n",
    "# Подключить модуль для работы с датчиком IMU ICM20948\n",
    "from py.lib.lib_imu_20948_horizon_rev01_v03 import *\n",
    "# Подключить модуль для работы с 2D фигурами\n",
    "#from py.lib.lib_figure2D_rev01_v01 import Figure2D\n",
    "from py.lib.lib_figure2D_rev01_v02 import Figure2D"
   ]
  },
  {
   "cell_type": "markdown",
   "id": "43e23adb",
   "metadata": {},
   "source": [
    "### Блок настроек среды исполнения Jupyter lab"
   ]
  },
  {
   "cell_type": "code",
   "execution_count": 3,
   "id": "27aa6c84",
   "metadata": {
    "tags": []
   },
   "outputs": [],
   "source": [
    "# Задать режим работы отображения графической информации\n",
    "%matplotlib  widget\n",
    "\n",
    "# Инструкция требующая повторно перезагружать пользовательские функции после изменения их кода\n",
    "%load_ext autoreload\n",
    "%autoreload 2"
   ]
  },
  {
   "cell_type": "markdown",
   "id": "4cd8805d",
   "metadata": {},
   "source": [
    "### Блок настроек параметров 2D фигур и других других связанных с отображением"
   ]
  },
  {
   "cell_type": "code",
   "execution_count": 5,
   "id": "e6f86ba9-6140-4731-8550-6415f53fe83b",
   "metadata": {
    "tags": []
   },
   "outputs": [],
   "source": [
    "# Создать объект содержащий настройки графиков 'сырых данных Акселерометра\n",
    "acc_opt_raw = {\n",
    "                'figsize': (10, 8),\n",
    "                'nrows': 3,\n",
    "                'suptitle': 'ГРАФИК НЕ ОБРАБОТАННЫХ ДАННЫХ АКСЕЛЕРОМЕТРА',\n",
    "                'abscissa': 'N',\n",
    "                'ordinate': ('X', 'Y', 'Z'),\n",
    "                'facecolor': ('lightslategray', 'lightslategray', 'lightslategray'),\n",
    "                'alpha': (0.5, 0.5, 0.5),\n",
    "                'graphcolor': ('green', 'blue', 'red'),\n",
    "                'xlim': (0, 50),\n",
    "                'ylim': (-2, 2) }"
   ]
  },
  {
   "cell_type": "code",
   "execution_count": null,
   "id": "811693a1",
   "metadata": {},
   "outputs": [],
   "source": [
    "# Создать объект содержащий настройки графиков усредненных данных Акселерометра\n",
    "acc_opt_avg = {\n",
    "                'figsize': (10, 8),\n",
    "                'nrows': 3,\n",
    "                'suptitle': 'ГРАФИК УСРЕДНЕННЫХ ДАННЫХ АКСЕЛЕРОМЕТРА',\n",
    "                'abscissa': 'N',\n",
    "                'ordinate': ('X', 'Y', 'Z'),\n",
    "                'facecolor': ('lightslategray', 'lightslategray', 'lightslategray'),\n",
    "                'alpha': (0.5, 0.5, 0.5),\n",
    "                'graphcolor': ('green', 'blue', 'red'),\n",
    "                'xlim': (0, 50),\n",
    "                'ylim': (-2, 2) }"
   ]
  },
  {
   "cell_type": "code",
   "execution_count": null,
   "id": "49af8cca",
   "metadata": {},
   "outputs": [],
   "source": [
    "# Создать объект содержащий настройки графиков 'сырых' данных Гироскопа\n",
    "gyro_opt_raw = {\n",
    "                'figsize': (10, 8),\n",
    "                'nrows': 3,\n",
    "                'suptitle': 'ГРАФИК НЕ ОБРАБОТАННЫХ ДАННЫХ ГИРОСКОПА',\n",
    "                'abscissa': 'N',\n",
    "                'ordinate': ('X', 'Y', 'Z'),\n",
    "                'facecolor': ('lightslategray', 'lightslategray', 'lightslategray'),\n",
    "                'alpha': (0.5, 0.5, 0.5),\n",
    "                'graphcolor': ('green', 'blue', 'red'),\n",
    "                'xlim': (0, 50),\n",
    "                'ylim': (-500, 500) }"
   ]
  },
  {
   "cell_type": "code",
   "execution_count": null,
   "id": "0d220763",
   "metadata": {},
   "outputs": [],
   "source": [
    "# Создать объект содержащий настройки графиков усредненных данных Гироскопа\n",
    "gyro_opt_avg = {\n",
    "                'figsize': (10, 8),\n",
    "                'nrows': 3,\n",
    "                'suptitle': 'ГРАФИК УСРЕДНЕННЫХ ДАННЫХ ГИРОСКОПА',\n",
    "                'abscissa': 'N',\n",
    "                'ordinate': ('X', 'Y', 'Z'),\n",
    "                'facecolor': ('lightslategray', 'lightslategray', 'lightslategray'),\n",
    "                'alpha': (0.5, 0.5, 0.5),\n",
    "                'graphcolor': ('green', 'blue', 'red'),\n",
    "                'xlim': (0, 50),\n",
    "                'ylim': (-500, 500) }"
   ]
  },
  {
   "cell_type": "code",
   "execution_count": null,
   "id": "66e4e244",
   "metadata": {},
   "outputs": [],
   "source": [
    "# Создать объект содержащий настройки графиков 'сырых' данных Магнитометра\n",
    "mag_opt_raw = {\n",
    "                'figsize': (10, 8),\n",
    "                'nrows': 3,\n",
    "                'suptitle': 'ГРАФИК НЕ ОБРАБОТАННЫХ ДАННЫХ МАГНИТОМЕТРА',\n",
    "                'abscissa': 'N',\n",
    "                'ordinate': ('X', 'Y', 'Z'),\n",
    "                'facecolor': ('lightslategray', 'lightslategray', 'lightslategray'),\n",
    "                'alpha': (0.5, 0.5, 0.5),\n",
    "                'graphcolor': ('green', 'blue', 'red'),\n",
    "                'xlim': (0, 50),\n",
    "                'ylim': (-500, 500) }"
   ]
  },
  {
   "cell_type": "code",
   "execution_count": null,
   "id": "f05b8660",
   "metadata": {},
   "outputs": [],
   "source": [
    "# Создать объект содержащий настройки графиков усредненных данных Магнитометра\n",
    "mag_opt_avg = {\n",
    "                'figsize': (10, 8),\n",
    "                'nrows': 3,\n",
    "                'suptitle': 'ГРАФИК УСРЕДНЕННЫХ ДАННЫХ МАГНИТОМЕТРА',\n",
    "                'abscissa': 'N',\n",
    "                'ordinate': ('X', 'Y', 'Z'),\n",
    "                'facecolor': ('lightslategray', 'lightslategray', 'lightslategray'),\n",
    "                'alpha': (0.5, 0.5, 0.5),\n",
    "                'graphcolor': ('green', 'blue', 'red'),\n",
    "                'xlim': (0, 50),\n",
    "                'ylim': (-500, 500) }"
   ]
  },
  {
   "cell_type": "markdown",
   "id": "0d9b91b0",
   "metadata": {},
   "source": [
    "### Блок считывания данных с сенсоров: Акселерометра, Гироскопа, Магнитометра"
   ]
  },
  {
   "cell_type": "code",
   "execution_count": 4,
   "id": "0a655272",
   "metadata": {},
   "outputs": [],
   "source": [
    "# Подключить модуль для работы с датчиком IMU ICM20948\n",
    "# from py.lib.lib_imu_20948_horizon_rev01_v03 import *\n",
    "\n",
    "'''\n",
    "    Класс чтения данных с трех сенсоров: Акселерометра, Гироскопа, Магнитометра.\n",
    "'''\n",
    "class ReadSensorIMU:\n",
    "    def __init__(self, _opts) -> None:\n",
    "        self.FigureOpt      = _opts            # хранит набор характеристик 2D фигуры\n",
    "        self.ValueLimRaw1   = 4                # окно усреднение данных\n",
    "        self.ValueLimRaw    = _opts['xlim'][1] # ограничитель - количество 'сырых' значений хранящихся в массивах AccArrRaw/ GyroArrRaw/ MagArrRaw\n",
    "        self.ValueLimAvg    = _opts['xlim'][1] # ограничитель - количество усредненных значений хранящихся в массивах AccArrAvg/ GyroArrAvg/ MagAvgArr\n",
    "\n",
    "        self.GyroFullScale = 1000 # величина настроенного диапазона Гироскопа (+/-) 1000 град/сек\n",
    "        self.GyroSampleRate = 50  # частота семплирования Гироскопа - 50Hz\n",
    "        self.GyroLowPass = 3      # фильтрация Гироскопа ~ 50Hz\n",
    "\n",
    "        self.AccFullScale = 2     # величина настроенного диапазона Акселерометра (+/-) 2g\n",
    "        self.AccSampleRate = 50   # частота семплирования Акселерометра - 50Hz\n",
    "        self.AccLowPass = 3       # фильтрация Акселерометра ~ 50Hz\n",
    "\n",
    "        self.MagSampleRate = 50   # частота семплирования Магнитометра - 50Hz\n",
    "\n",
    "        self.ICM20948 = ICM20948( gfs=self.GyroFullScale\\\n",
    "                                 ,gsr=self.GyroSampleRate\\\n",
    "                                 ,glp=self.GyroLowPass\\\n",
    "                                 ,afs=self.AccFullScale\\\n",
    "                                 ,asr=self.AccSampleRate\n",
    "                                 ,alp=self.AccLowPass\\\n",
    "                                 ,msm=self.MagSampleRate) # инстанцировать модуль для работы с датчиком IMU ICM20948 \n",
    "\n",
    "        self.AccRaw  = [0, 0, 0] # массив 'сырых', мгновенных значений  Акселерометра, по одному значению на каждую ось [X, Y, Z]\n",
    "        self.GyroRaw = [0, 0, 0] # массив 'сырых', мгновенных значений  Гироскопа,     по одному значению на каждую ось [X, Y, Z]\n",
    "        self.MagRaw  = [0, 0, 0] # массив 'сырых', мгновенных значений  Магнитометра,  по одному значению на каждую ось [X, Y, Z]\n",
    "\n",
    "        self.AccAvg  = [0, 0, 0] # массив средних, мгновенных значений  Акселерометра, по одному значению на каждую ось [X, Y, Z]\n",
    "        self.GyroAvg = [0, 0, 0] # массив средних, мгновенных значений  Гироскопа,     по одному значению на каждую ось [X, Y, Z]\n",
    "        self.MagAvg  = [0, 0, 0] # массив средних, мгновенных значений  Магнитометра,  по одному значению на каждую ось [X, Y, Z]\n",
    "        \n",
    "        # Набор итоговых тройных массивов для хранения  'сырых' данных от трех (3) сенсоров, по трем (3) осям\n",
    "        self.AccArrRaw  = [ [0]*self.ValueLimRaw, [0]*self.ValueLimRaw, [0]*self.ValueLimRaw ] # заполнить массив '0' значениями\n",
    "        self.GyroArrRaw = [ [0]*self.ValueLimRaw, [0]*self.ValueLimRaw, [0]*self.ValueLimRaw ] # заполнить массив '0' значениями\n",
    "        self.MagArrRaw  = [ [0]*self.ValueLimRaw, [0]*self.ValueLimRaw, [0]*self.ValueLimRaw ] # заполнить массив '0' значениями\n",
    "\n",
    "        # Набор итоговых тройных массивов для хранения усредненных данных от трех (3) сенсоров, по трем (3) осям\n",
    "        self.AccArrAvg   = [ [0]*self.ValueLimAvg, [0]*self.ValueLimAvg, [0]*self.ValueLimAvg ] # заполнить массив '0' значениями\n",
    "        self.GyroArrAvg  = [ [0]*self.ValueLimAvg, [0]*self.ValueLimAvg, [0]*self.ValueLimAvg ] # заполнить массив '0' значениями\n",
    "        self.MagArrAvg   = [ [0]*self.ValueLimAvg, [0]*self.ValueLimAvg, [0]*self.ValueLimAvg ] # заполнить массив '0' значениями\n",
    "\n",
    "        self.TempRaw     = 0                    # Текущее значение температуры встроенного в ICM20948 термодатчика\n",
    "        self.TempArrRaw  = [0]*self.ValueLimRaw # Массив текущих значений встроенного в ICM20948 термодатчика\n",
    "\n",
    "        # Прочитать данные один раз - дать 'толчок' для постоянной работы датчика IMU\n",
    "        self.MagRaw = self.ICM20948.read_magnetometer_data()\n",
    "        self.AccRaw, self.GyroRaw = self.ICM20948.read_accelerometer_gyro_data()\n",
    "    \n",
    "    '''\n",
    "    \n",
    "    '''\n",
    "    def UpdateValue(self):\n",
    "\n",
    "        # Получить'сырые' данные от всех датчиков IMU20948\n",
    "        self.AccRaw, self.GyroRaw, self.MagRaw, self.TempRaw = self.ICM20948.read_full_data() # считать показания датчиков модуля ICM20948\n",
    "\n",
    "        # Добавить одиночное показание Термодатчика в массив 'сырых' данных\n",
    "        self.TempArrRaw.append(self.TempRaw)\n",
    "        # Отслеживать размер массива 'сырых' данных\n",
    "        if len(self.TempArrRaw) > self.ValueLimRaw:\n",
    "            self.TempArrRaw.pop(0)\n",
    "        \n",
    "        # Добавить данные от трех датчиков по трем осям в массив 'сырых' данных и усредненных\n",
    "        for i in range(3):\n",
    "            # Добавить 'сырые' данные Акселерометра\n",
    "            self.AccArrRaw[i].append(self.AccRaw[i])\n",
    "            # Отслеживать размер массива 'сырых' данных\n",
    "            if len(self.AccArrRaw[i]) > self.ValueLimRaw:\n",
    "                self.AccArrRaw[i].pop(0)\n",
    "\n",
    "            # Добавить 'сырые' данные Гироскопа\n",
    "            self.GyroArrRaw[i].append(self.GyroRaw[i])\n",
    "            # Отслеживать размер массива 'сырых' данных\n",
    "            if len(self.GyroArrRaw[i]) > self.ValueLimRaw:\n",
    "                self.GyroArrRaw[i].pop(0)\n",
    "            \n",
    "            # Добавить 'сырые' данные Магнитометра\n",
    "            self.MagArrRaw[i].append(self.MagRaw[i])\n",
    "            # Отслеживать размер массива 'сырых' данных\n",
    "            if len(self.MagArrRaw[i]) > self.ValueLimRaw:\n",
    "                self.MagArrRaw[i].pop(0)\n",
    "            \n",
    "            # Обновить усредненные данные по трем осям трех датчиков\n",
    "            acc_avg  = sum( self.AccArrRaw[i][-self.ValueLimRaw1:]) / len( self.AccArrRaw[i][-self.ValueLimRaw1:])\n",
    "            gyro_avg = sum(self.GyroArrRaw[i][-self.ValueLimRaw1:]) / len(self.GyroArrRaw[i][-self.ValueLimRaw1:])\n",
    "            mag_avg  = sum( self.MagArrRaw[i][-self.ValueLimRaw1:]) / len( self.MagArrRaw[i][-self.ValueLimRaw1:])\n",
    "\n",
    "            # Добавить усредненные данные Акселерометра\n",
    "            self.AccArrAvg[i].append(acc_avg)\n",
    "            # Отслеживать размер массива усредненных данных\n",
    "            if len(self.AccArrAvg[i]) > self.ValueLimAvg:\n",
    "                self.AccArrAvg[i].pop(0)\n",
    "            \n",
    "            # Добавить усредненные данные Гироскопа\n",
    "            self.GyroArrAvg[i].append(gyro_avg)\n",
    "            # Отслеживать размер массива усредненных данных\n",
    "            if len(self.GyroArrAvg[i]) > self.ValueLimAvg:\n",
    "                self.GyroArrAvg[i].pop(0)\n",
    "\n",
    "            # Добавить усредненные данные Магнитометра\n",
    "            self.MagArrAvg[i].append(mag_avg)\n",
    "            # Отслеживать размер массива усредненных данных\n",
    "            if len(self.MagArrAvg[i]) > self.ValueLimAvg:\n",
    "                self.MagArrAvg[i].pop(0)"
   ]
  },
  {
   "cell_type": "code",
   "execution_count": null,
   "id": "b9cd30d9",
   "metadata": {},
   "outputs": [],
   "source": [
    "def cleanup_imu():\n",
    "    IMU.ICM20948.powerOff() # завершающий код для корректного выключения IMU\n",
    "    print(\"Завершающая функция вызвана!\")\n",
    "\n",
    "# Регистрируем функцию cleanup_imu для вызова при завершении работы программы\n",
    "atexit.register(cleanup_imu)\n",
    "\n",
    "# Код пользователя\n",
    "async def AsyncUpdate():\n",
    "    AsyncFunc = SetInterval( 0.05, IMU.UpdateValue )\n",
    "    AsyncFunc.start()\n",
    "\n",
    "IMU = ReadSensorIMU( acc_opt_raw ) # инстанцировать объект IMU датчика\n",
    "#asyncio.run( AsyncUpdate() )\n",
    "await AsyncUpdate()\n"
   ]
  },
  {
   "cell_type": "code",
   "execution_count": null,
   "id": "56883b30",
   "metadata": {},
   "outputs": [],
   "source": [
    "attribute_values = vars(IMU)\n",
    "print(attribute_values)"
   ]
  },
  {
   "cell_type": "markdown",
   "id": "3112c63c",
   "metadata": {
    "tags": []
   },
   "source": [
    "### Блок визуализации не обработанных данных Акселерометра"
   ]
  },
  {
   "cell_type": "code",
   "execution_count": null,
   "id": "32b4a3d7",
   "metadata": {
    "editable": true,
    "slideshow": {
     "slide_type": ""
    },
    "tags": []
   },
   "outputs": [],
   "source": [
    "acc_grafics2D_raw = Figure2D( acc_opt_raw, IMU.AccArrRaw ) # инстанцировать объекта класса построения 2D фигур\n",
    "acc_grafics2D_raw.CreateVectorFigure()      # Создать 'figure' matplotlib для построения тройного графика показаний датчика\n",
    "\n",
    "acc_grafics2D_raw_anim = an.FuncAnimation( fig=acc_grafics2D_raw.Figure\\\n",
    "                                          ,func=acc_grafics2D_raw.UpdateAnimation\\\n",
    "                                          ,interval=200\\\n",
    "                                          ,frames=200\\\n",
    "                                          ,blit = True) # frames=50, save_count=1500\n",
    "# grafics_2D_anim = an.FuncAnimation(fig=grafics_2D.Figure, func=grafics_2D.UpdateGraph, interval=200, frames=50, save_count=1500) # сохраняет 1 500 кадров ?\n",
    "plt.show()\n",
    "\n",
    "#Codec = an.writers['ffmpeg']\n",
    "#VideoParam = Codec(fps=15, bitrate=1800) #metadata={'artist': 'Me'}\n",
    "#grafics_2D_anim.save('Line-Graph-Animation.mp4', VideoParam)\n",
    "\n"
   ]
  },
  {
   "cell_type": "raw",
   "id": "2da86c04-6a3e-4a93-bddd-0bd86eeb6289",
   "metadata": {
    "tags": []
   },
   "source": [
    "#del(acc_grafics2D_raw_anim)"
   ]
  },
  {
   "cell_type": "markdown",
   "id": "aa94da32",
   "metadata": {},
   "source": [
    "### Блок визуализации не обработанных данных Гироскопа"
   ]
  },
  {
   "cell_type": "code",
   "execution_count": null,
   "id": "46e8ddb5",
   "metadata": {},
   "outputs": [],
   "source": [
    "gyro_grafics2D_raw = Figure2D( gyro_opt_raw, IMU.GyroArrRaw )\n",
    "gyro_grafics2D_raw.CreateVectorFigure()\n",
    "\n",
    "gyro_grafics2D_raw_anim = an.FuncAnimation(  fig=gyro_grafics2D_raw.Figure\\\n",
    "                                            ,func=gyro_grafics2D_raw.UpdateAnimation\\\n",
    "                                            ,interval=200\\\n",
    "                                            ,frames=200\\\n",
    "                                            ,blit = True)\n",
    "plt.show()"
   ]
  },
  {
   "cell_type": "markdown",
   "id": "5c7876bb",
   "metadata": {},
   "source": [
    "### Блок визуализации не обработанных данных Магнитометра"
   ]
  },
  {
   "cell_type": "code",
   "execution_count": null,
   "id": "9c0f26fe",
   "metadata": {},
   "outputs": [],
   "source": [
    "mag_grafics2D_raw = Figure2D( mag_opt_raw, IMU.MagArrRaw )\n",
    "mag_grafics2D_raw.CreateVectorFigure()\n",
    "\n",
    "mag_grafics2D_raw_anim = an.FuncAnimation(  fig=mag_grafics2D_raw.Figure\\\n",
    "                                           ,func=mag_grafics2D_raw.UpdateAnimation\\\n",
    "                                           ,interval=200\\\n",
    "                                           ,frames=200\\\n",
    "                                           ,blit = True)\n",
    "plt.show()"
   ]
  }
 ],
 "metadata": {
  "kernelspec": {
   "display_name": "Python 3 (ipykernel)",
   "language": "python",
   "name": "python3"
  },
  "language_info": {
   "codemirror_mode": {
    "name": "ipython",
    "version": 3
   },
   "file_extension": ".py",
   "mimetype": "text/x-python",
   "name": "python",
   "nbconvert_exporter": "python",
   "pygments_lexer": "ipython3",
   "version": "3.11.5"
  }
 },
 "nbformat": 4,
 "nbformat_minor": 5
}
