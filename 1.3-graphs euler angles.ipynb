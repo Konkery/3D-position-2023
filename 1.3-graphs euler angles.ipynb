{
 "cells": [
  {
   "cell_type": "markdown",
   "id": "54149f99",
   "metadata": {
    "editable": true,
    "slideshow": {
     "slide_type": ""
    },
    "tags": []
   },
   "source": [
    "## МОДУЛЬ ВИЗУАЛИЗАЦИИ УГЛОВ ЭЙЛЕРА\n",
    "---\n",
    "МОДУЛЬ ПРЕДНАЗНАЧЕН ДЛЯ ВИЗУАЛИИЗАЦИИ ПОКАЗАНИЙ УГЛОВ ЭЙЛЕРА ПОЛУЧЕННЫХ ПО КАНАЛУ ГИРОСКОПА, АКСЕЛЕРОМЕТРА, КОМПЛИМЕНТАРНОГО ФИЛЬТРА"
   ]
  },
  {
   "cell_type": "markdown",
   "id": "3112c63c",
   "metadata": {
    "tags": []
   },
   "source": [
    "### Блок визуализации углов Эйлера по каналу Акселерометра"
   ]
  },
  {
   "cell_type": "code",
   "execution_count": null,
   "id": "b3ca32b0",
   "metadata": {},
   "outputs": [],
   "source": [
    "import ipywidgets as widgets\n",
    "from IPython.display import display\n",
    "import time"
   ]
  },
  {
   "cell_type": "code",
   "execution_count": null,
   "id": "394673ed",
   "metadata": {},
   "outputs": [],
   "source": [
    "# Глобальный массив, хранит углы Эйлера полученные с помощью акселерометра. является копией соответствующего массива класса ReadSensorIMU\n",
    "AccArrAngle  = []\n",
    "# Глобальный массив, хранит углы Эйлера полученные с помощью гироскопа. является копией соответствующего массива класса ReadSensorIMU\n",
    "GyroArrAngle = []\n",
    "# Глобальный массив, хранит углы Эйлера полученные с помощью фильтра слияния. является копией соответствующего массива класса ReadSensorIMU\n",
    "CompArrAngle = []\n",
    "\n",
    "# Создать алиасы индексов соответствующих под-массивов\n",
    "Roll_index  = 0\n",
    "Pitch_index = 1\n",
    "Yaw_index   = 2"
   ]
  },
  {
   "cell_type": "code",
   "execution_count": null,
   "id": "119c09c8",
   "metadata": {},
   "outputs": [],
   "source": [
    "# Здесь будет код десереализации массив данных углов Эйлера"
   ]
  },
  {
   "cell_type": "code",
   "execution_count": null,
   "id": "bb92e539-defb-4348-94db-30a63de75a9d",
   "metadata": {},
   "outputs": [
    {
     "data": {
      "application/vnd.jupyter.widget-view+json": {
       "model_id": "ae42eff971f942b5b8624d6164ff9e1f",
       "version_major": 2,
       "version_minor": 0
      },
      "text/plain": [
       "HBox(children=(Label(value='R'), HTML(value='<div style=\"text-align: right; width: 100px; border: 3px solid #0…"
      ]
     },
     "metadata": {},
     "output_type": "display_data"
    }
   ],
   "source": [
    "# Функция для обновления значений\n",
    "def update_values():\n",
    "    #global AccArrAngle, GyroArrAngle, CompArrAngle\n",
    "    Roll_w.value = f'<div style=\"text-align: right; width: 100px; border: 3px solid #000\"><span style=\"padding-right: 10px\">{AccArrAngle[Roll_index][-1]:.2f}</span></div>'\n",
    "    Pitch_w.value = f'<div style=\"text-align: right; width: 100px; border: 3px solid #000\"><span style=\"padding-right: 10px\">{AccArrAngle[Pitch_index][-1]:.2f}</span></div>'\n",
    "    Yaw_w.value = f'<div style=\"text-align: right; width: 100px; border: 3px solid #000\"><span style=\"padding-right: 10px\">{AccArrAngle[Yaw_index][-1]:.2f}span></div>'\n",
    "    A_w.value = ''\n",
    "    B_w.value = ''\n",
    "\n",
    "# Создание виджетов для отображения значений переменных\n",
    "Roll_w = widgets.HTML(value=f'<div style=\"text-align: right; width: 100px; border: 3px solid #000\"><span style=\"padding-right: 3px\">{AccArrAngle[Roll_index][-1]:.2f}</span></div>')\n",
    "Pitch_w = widgets.HTML(value=f'<div style=\"text-align: right; width: 100px; border: 3px solid #000\"><span style=\"padding-right: 3px\">{AccArrAngle[Pitch_index][-1]:.2f}</span></div>')\n",
    "Yaw_w = widgets.HTML(value=f'<div style=\"text-align: right; width: 100px; border: 3px solid #000\"><span style=\"padding-right: 3px\">{AccArrAngle[Yaw_index][-1]:.2f}</span></div>')\n",
    "A_w = widgets.HTML(value='', layout=widgets.Layout(width='50px'))\n",
    "B_w = widgets.HTML(value='', layout=widgets.Layout(width='50px'))\n",
    "\n",
    "# Отображение виджетов\n",
    "display(widgets.HBox([widgets.Label(value='R'), Roll_w, A_w, widgets.Label(value='P'), Pitch_w, B_w, widgets.Label(value='Y'), Yaw_w]))\n",
    "\n",
    "# Обновление значений каждую секунду\n",
    "while True:\n",
    "    update_values()\n",
    "    time.sleep(1)"
   ]
  },
  {
   "cell_type": "markdown",
   "id": "8d814193-381b-42ba-9d21-c6152baec122",
   "metadata": {},
   "source": [
    "### Блок визуализации углов Эйлера по каналу Гироскопа"
   ]
  },
  {
   "cell_type": "code",
   "execution_count": null,
   "id": "1d42e283-0fcf-4df9-a6a5-b3f08f7f59bf",
   "metadata": {},
   "outputs": [],
   "source": []
  },
  {
   "cell_type": "markdown",
   "id": "5c7876bb",
   "metadata": {},
   "source": [
    "### Блок визуализации углов Эйлера по каналу Комплиментарного фильтра"
   ]
  },
  {
   "cell_type": "code",
   "execution_count": null,
   "id": "1797ad54-d49b-4aca-ab2f-f8d4ce49b575",
   "metadata": {},
   "outputs": [],
   "source": []
  }
 ],
 "metadata": {
  "kernelspec": {
   "display_name": "Python 3 (ipykernel)",
   "language": "python",
   "name": "python3"
  },
  "language_info": {
   "codemirror_mode": {
    "name": "ipython",
    "version": 3
   },
   "file_extension": ".py",
   "mimetype": "text/x-python",
   "name": "python",
   "nbconvert_exporter": "python",
   "pygments_lexer": "ipython3",
   "version": "3.9.2"
  }
 },
 "nbformat": 4,
 "nbformat_minor": 5
}
