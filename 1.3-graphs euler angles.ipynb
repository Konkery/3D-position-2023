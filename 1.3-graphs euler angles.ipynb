{
 "cells": [
  {
   "cell_type": "markdown",
   "id": "54149f99",
   "metadata": {
    "editable": true,
    "slideshow": {
     "slide_type": ""
    },
    "tags": []
   },
   "source": [
    "## МОДУЛЬ ВИЗУАЛИЗАЦИИ УГЛОВ ЭЙЛЕРА\n",
    "---\n",
    "МОДУЛЬ ПРЕДНАЗНАЧЕН ДЛЯ ВИЗУАЛИИЗАЦИИ ПОКАЗАНИЙ УГЛОВ ЭЙЛЕРА ПОЛУЧЕННЫХ ПО КАНАЛУ ГИРОСКОПА, АКСЕЛЕРОМЕТРА, КОМПЛИМЕНТАРНОГО ФИЛЬТРА"
   ]
  },
  {
   "cell_type": "markdown",
   "id": "850ff7e3",
   "metadata": {},
   "source": [
    "### Блок импорта библиотек необходимых для работы модуля"
   ]
  },
  {
   "cell_type": "code",
   "execution_count": null,
   "id": "384b36b0",
   "metadata": {},
   "outputs": [],
   "source": [
    "# Подключить библиотеки для мат обработки данных и генерации случайных данных\n",
    "import numpy as np\n",
    "import math\n",
    "\n",
    "# Подключить библиотеки для работы с датой/временем\n",
    "from datetime import datetime\n",
    "import time\n",
    "\n",
    "# Подключить библиотеки для асинхронной работы\n",
    "import asyncio\n",
    "\n",
    "# Подключить библиотеки для работы с базой данных redis\n",
    "import redis\n",
    "\n",
    "# Подключить библиотеки для работы с JSON\n",
    "import json\n",
    "\n",
    "# Подключить библиотеки для работы с завершающими функциями Jupyter Lab\n",
    "import atexit\n",
    "\n",
    "# Подключить библиотеки для работы с виджетами в Jupyter Lab\n",
    "import ipywidgets as widgets\n",
    "from   ipywidgets import Output\n",
    "from IPython.display import display\n",
    "\n",
    "# -----------------------------------------------------------------------\n",
    "# Подключить пользовательские модули\n",
    "# -----------------------------------------------------------------------\n",
    "# Подключить модуль для подключения к БД Redis\n",
    "from py.lib.lib_work_redis_rev01_v01 import *\n",
    "# Подключить модуль для создания и обновления HTML элементов отображения данных об углах Эйлера\n",
    "from py.lib.lib_work_html_widget_rev01_v01 import *\n",
    "# Подключить модуль с оберткой для синхронных функций в стиле setInterval JavaScript\n",
    "from py.lib.lib_setinterval_rev01_v01 import *"
   ]
  },
  {
   "cell_type": "markdown",
   "id": "a2d2e91d",
   "metadata": {},
   "source": [
    "### Блок настроек среды исполнения Jupyter lab"
   ]
  },
  {
   "cell_type": "code",
   "execution_count": null,
   "id": "a2a81f8b",
   "metadata": {},
   "outputs": [],
   "source": [
    "# Инструкция требующая повторно перезагружать пользовательские функции после изменения их кода\n",
    "%load_ext autoreload\n",
    "%autoreload 2"
   ]
  },
  {
   "cell_type": "markdown",
   "id": "d80de114",
   "metadata": {},
   "source": [
    "### Блок объявления глобальных переменных модуля"
   ]
  },
  {
   "cell_type": "code",
   "execution_count": null,
   "id": "86342a5b",
   "metadata": {},
   "outputs": [],
   "source": [
    "# Создать алиасы индексов соответствующих под-массивов, для удобства обращения\n",
    "ROLL_IND    = 0\n",
    "PITCH_IND   = 1\n",
    "YAW_IND     = 2\n",
    "\n",
    "# Глобальный массив, хранит углы Эйлера полученные с помощью акселерометра. является копией соответствующего массива класса ReadSensorIMU\n",
    "AccArrAngle  = [[0,0,0],[0,0,0],[0,0,0]]\n",
    "# Глобальный массив, хранит углы Эйлера полученные с помощью гироскопа. является копией соответствующего массива класса ReadSensorIMU\n",
    "GyroArrAngle = [[0,0,0],[0,0,0],[0,0,0]]\n",
    "# Глобальный массив, хранит углы Эйлера полученные с помощью фильтра слияния. является копией соответствующего массива класса ReadSensorIMU\n",
    "CompArrAngle = [[0,0,0],[0,0,0],[0,0,0]]"
   ]
  },
  {
   "cell_type": "markdown",
   "id": "497eb055",
   "metadata": {},
   "source": [
    "### Блок синхронизации данных об углах Эйлера с базой данных"
   ]
  },
  {
   "cell_type": "code",
   "execution_count": null,
   "id": "0513f7a0",
   "metadata": {},
   "outputs": [],
   "source": [
    "ConnectDB =  ConnectDB() # выполнить подключение к базе данных Redis"
   ]
  },
  {
   "cell_type": "code",
   "execution_count": null,
   "id": "a6bc1ebc",
   "metadata": {},
   "outputs": [],
   "source": [
    "# Создать функцию для синхронизации данных углов эйлера хранящихся в БД и глобальными переменными модуля\n",
    "def ReadEulerDate():\n",
    "    global AccArrAngle, GyroArrAngle, CompArrAngle\n",
    "\n",
    "    # Считать и десериализировать данные массива углов Эйлера из Redis по каналу Акселерометра\n",
    "    AccArrAngle_json = ConnectDB.get('AccArrAngle')\n",
    "    AccArrAngle = json.loads(AccArrAngle_json)\n",
    "\n",
    "    # Считать и десериализировать данные массива углов Эйлера из Redis по каналу Гироскопа\n",
    "    GyroArrAngle_json = ConnectDB.get('GyroArrAngle')\n",
    "    GyroArrAngle = json.loads(GyroArrAngle_json)\n",
    "\n",
    "    # Считать и десериализировать данные массива углов Эйлера из Redis по каналу Комплементарного фильтра\n",
    "    CompArrAngle_json = ConnectDB.get('CompArrAngle')\n",
    "    CompArrAngle = json.loads(CompArrAngle_json)\n",
    "\n"
   ]
  },
  {
   "cell_type": "code",
   "execution_count": null,
   "id": "cbe7fcec",
   "metadata": {},
   "outputs": [],
   "source": [
    "# Создаем асинхронную обертку для синхронной функции, с целью выполнения ее в асинхронном режиме\n",
    "async def AsyncReadEulerDate():\n",
    "    AsyncFunc = SetInterval( 0.1, ReadEulerDate ) # период синхронизации 100 ms\n",
    "    AsyncFunc.start()\n",
    "\n",
    "await AsyncReadEulerDate()"
   ]
  },
  {
   "cell_type": "markdown",
   "id": "3112c63c",
   "metadata": {
    "tags": []
   },
   "source": [
    "### Блок визуализации углов Эйлера по каналу Акселерометра"
   ]
  },
  {
   "cell_type": "code",
   "execution_count": null,
   "id": "bb92e539-defb-4348-94db-30a63de75a9d",
   "metadata": {},
   "outputs": [
    {
     "data": {
      "application/vnd.jupyter.widget-view+json": {
       "model_id": "a7df8b8edc1f41528f55f62962d3d20a",
       "version_major": 2,
       "version_minor": 0
      },
      "text/plain": [
       "HBox(children=(Label(value='Roll_Acc'), HTML(value='<div style=\"text-align: right; width: 100px; border: 3px s…"
      ]
     },
     "metadata": {},
     "output_type": "display_data"
    }
   ],
   "source": [
    "# Создать виджеты для отображения значений углов Эйлера по каналу Акселерометра\n",
    "Roll_Acc, Pitch_Acc, Yaw_Acc, A_Acc, B_Acc = CreateHTMLwidgest()\n",
    "# Отобразить виджеты\n",
    "display(widgets.HBox([widgets.Label(value='Roll_Acc'), Roll_Acc, A_Acc, widgets.Label(value='Pitch_Acc'), Pitch_Acc, B_Acc, widgets.Label(value='Yaw_Acc'), Yaw_Acc]))"
   ]
  },
  {
   "cell_type": "code",
   "execution_count": null,
   "id": "4b8b7080",
   "metadata": {},
   "outputs": [],
   "source": [
    "# Создать асинхронную обертку кода для асинхронного выполнения кода функции обновления содержимого виджетов углов по каналу Акселерометра\n",
    "async def AsyncAccEulerUpdateVal():\n",
    "    AsyncFunc = SetInterval( 0.25, UpdateHTMLwidgest, Roll_Acc, Pitch_Acc, Yaw_Acc, AccArrAngle ) # период синхронизации 250 ms\n",
    "    AsyncFunc.start()\n",
    "\n",
    "await AsyncAccEulerUpdateVal()"
   ]
  },
  {
   "cell_type": "code",
   "execution_count": null,
   "id": "a918fc62",
   "metadata": {},
   "outputs": [],
   "source": [
    "# Создаем асинхронную обертку кода для асинхронного выполнения кода функции\n",
    "async def AsyncAccEulerUpdateVal():\n",
    "    AsyncFunc = SetInterval( 0.3, AccEulerUpdateVal ) # период синхронизации 100 ms\n",
    "    AsyncFunc.start()\n",
    "\n",
    "await AsyncAccEulerUpdateVal()"
   ]
  },
  {
   "cell_type": "markdown",
   "id": "8d814193-381b-42ba-9d21-c6152baec122",
   "metadata": {},
   "source": [
    "### Блок визуализации углов Эйлера по каналу Гироскопа"
   ]
  },
  {
   "cell_type": "code",
   "execution_count": null,
   "id": "1d42e283-0fcf-4df9-a6a5-b3f08f7f59bf",
   "metadata": {},
   "outputs": [],
   "source": [
    "# Функция для обновления значений\n",
    "def GyroEulerUpdateVal():\n",
    "    #global AccArrAngle, GyroArrAngle, CompArrAngle\n",
    "    Roll_Gyro.value = f'<div style=\"text-align: right; width: 100px; border: 3px solid #000\"><span style=\"padding-right: 10px\">{CompArrAngle[ROLL_IND][-1]:.1f}</span></div>'\n",
    "    Pitch_Gyro.value = f'<div style=\"text-align: right; width: 100px; border: 3px solid #000\"><span style=\"padding-right: 10px\">{CompArrAngle[PITCH_IND][-1]:.1f}</span></div>'\n",
    "    Yaw_Gyro.value = f'<div style=\"text-align: right; width: 100px; border: 3px solid #000\"><span style=\"padding-right: 10px\">{CompArrAngle[YAW_IND][-1]:.1f}</span></div>'\n",
    "    A_Gyro.value = ''\n",
    "    B_Gyro.value = ''\n",
    "\n",
    "# Создание виджетов для отображения значений переменных\n",
    "Roll_Gyro = widgets.HTML(value=f'<div style=\"text-align: right; width: 100px; border: 3px solid #000\"><span style=\"padding-right: 3px\">{CompArrAngle[ROLL_IND][-1]:.1f}</span></div>')\n",
    "Pitch_Gyro = widgets.HTML(value=f'<div style=\"text-align: right; width: 100px; border: 3px solid #000\"><span style=\"padding-right: 3px\">{CompArrAngle[PITCH_IND][-1]:.1f}</span></div>')\n",
    "Yaw_Gyro = widgets.HTML(value=f'<div style=\"text-align: right; width: 100px; border: 3px solid #000\"><span style=\"padding-right: 3px\">{CompArrAngle[YAW_IND][-1]:.1f}</span></div>')\n",
    "A_Gyro = widgets.HTML(value='', layout=widgets.Layout(width='50px'))\n",
    "B_Gyro = widgets.HTML(value='', layout=widgets.Layout(width='50px'))\n",
    "\n",
    "# Отображение виджетов\n",
    "display(widgets.HBox([widgets.Label(value='Roll_Gyro'), Roll_Gyro, A_Gyro, widgets.Label(value='Pitch_Gyro'), Pitch_Gyro, B_Gyro, widgets.Label(value='Yaw_Gyro'), Yaw_Gyro]))\n",
    "\n",
    "# Создаем асинхронную обертку кода для асинхронного выполнения кода функции\n",
    "async def AsyncGyroEulerUpdateVal():\n",
    "    AsyncFunc = SetInterval( 0.3, GyroEulerUpdateVal ) # период синхронизации 100 ms\n",
    "    AsyncFunc.start()\n",
    "\n",
    "await AsyncGyroEulerUpdateVal()"
   ]
  },
  {
   "cell_type": "markdown",
   "id": "5c7876bb",
   "metadata": {},
   "source": [
    "### Блок визуализации углов Эйлера по каналу Комплиментарного фильтра"
   ]
  },
  {
   "cell_type": "code",
   "execution_count": null,
   "id": "1797ad54-d49b-4aca-ab2f-f8d4ce49b575",
   "metadata": {},
   "outputs": [],
   "source": [
    "# Функция для обновления значений\n",
    "def CompEulerUpdateVal():\n",
    "    #global AccArrAngle, GyroArrAngle, CompArrAngle\n",
    "    Roll_Comp.value = f'<div style=\"text-align: right; width: 100px; border: 3px solid #000\"><span style=\"padding-right: 10px\">{CompArrAngle[ROLL_IND][-1]:.1f}</span></div>'\n",
    "    Pitch_Comp.value = f'<div style=\"text-align: right; width: 100px; border: 3px solid #000\"><span style=\"padding-right: 10px\">{CompArrAngle[PITCH_IND][-1]:.1f}</span></div>'\n",
    "    Yaw_Comp.value = f'<div style=\"text-align: right; width: 100px; border: 3px solid #000\"><span style=\"padding-right: 10px\">{CompArrAngle[YAW_IND][-1]:.1f}</span></div>'\n",
    "    A_Comp.value = ''\n",
    "    B_Comp.value = ''\n",
    "\n",
    "# Создание виджетов для отображения значений переменных\n",
    "Roll_Comp = widgets.HTML(value=f'<div style=\"text-align: right; width: 100px; border: 3px solid #000\"><span style=\"padding-right: 3px\">{CompArrAngle[ROLL_IND][-1]:.2f}</span></div>')\n",
    "Pitch_Comp = widgets.HTML(value=f'<div style=\"text-align: right; width: 100px; border: 3px solid #000\"><span style=\"padding-right: 3px\">{CompArrAngle[PITCH_IND][-1]:.2f}</span></div>')\n",
    "Yaw_Comp = widgets.HTML(value=f'<div style=\"text-align: right; width: 100px; border: 3px solid #000\"><span style=\"padding-right: 3px\">{CompArrAngle[YAW_IND][-1]:.2f}</span></div>')\n",
    "A_Comp = widgets.HTML(value='', layout=widgets.Layout(width='50px'))\n",
    "B_Comp = widgets.HTML(value='', layout=widgets.Layout(width='50px'))\n",
    "\n",
    "# Отображение виджетов\n",
    "display(widgets.HBox([widgets.Label(value='Roll_Comp'), Roll_Comp, A_Comp, widgets.Label(value='Pitch_Comp'), Pitch_Comp, B_Comp, widgets.Label(value='Yaw_Comp'), Yaw_Comp]))\n",
    "\n",
    "# Создаем асинхронную обертку кода для асинхронного выполнения кода функции\n",
    "async def AsyncCompEulerUpdateVal():\n",
    "    AsyncFunc = SetInterval( 0.3, CompEulerUpdateVal ) # период синхронизации 100 ms\n",
    "    AsyncFunc.start()\n",
    "\n",
    "await AsyncCompEulerUpdateVal()"
   ]
  }
 ],
 "metadata": {
  "kernelspec": {
   "display_name": "Python 3 (ipykernel)",
   "language": "python",
   "name": "python3"
  },
  "language_info": {
   "codemirror_mode": {
    "name": "ipython",
    "version": 3
   },
   "file_extension": ".py",
   "mimetype": "text/x-python",
   "name": "python",
   "nbconvert_exporter": "python",
   "pygments_lexer": "ipython3",
   "version": "3.11.5"
  }
 },
 "nbformat": 4,
 "nbformat_minor": 5
}
