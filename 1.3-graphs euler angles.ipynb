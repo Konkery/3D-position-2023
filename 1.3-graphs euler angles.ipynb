{
 "cells": [
  {
   "cell_type": "markdown",
   "id": "54149f99",
   "metadata": {
    "editable": true,
    "slideshow": {
     "slide_type": ""
    },
    "tags": []
   },
   "source": [
    "## МОДУЛЬ ВИЗУАЛИЗАЦИИ УГЛОВ ЭЙЛЕРА\n",
    "---\n",
    "МОДУЛЬ ПРЕДНАЗНАЧЕН ДЛЯ ВИЗУАЛИИЗАЦИИ ПОКАЗАНИЙ УГЛОВ ЭЙЛЕРА ПОЛУЧЕННЫХ ПО КАНАЛУ ГИРОСКОПА, АКСЕЛЕРОМЕТРА, КОМПЛИМЕНТАРНОГО ФИЛЬТРА"
   ]
  },
  {
   "cell_type": "markdown",
   "id": "850ff7e3",
   "metadata": {},
   "source": [
    "### Блок импорта библиотек необходимых для работы модуля"
   ]
  },
  {
   "cell_type": "code",
   "execution_count": null,
   "id": "384b36b0",
   "metadata": {},
   "outputs": [],
   "source": [
    "# Подключить библиотеки для мат обработки данных и генерации случайных данных\n",
    "import numpy as np\n",
    "import math\n",
    "\n",
    "# Подключить библиотеки для работы с датой/временем\n",
    "from datetime import datetime\n",
    "import time\n",
    "\n",
    "# Подключить библиотеки для асинхронной работы\n",
    "import asyncio\n",
    "# Подключить библиотеки для работы с базой данных redis\n",
    "import redis\n",
    "# Подключить библиотеки для работы с JSON\n",
    "import json\n",
    "\n",
    "# Подключить библиотеки для работы с виджетами в Jupyter Lab\n",
    "import ipywidgets as widgets\n",
    "from   ipywidgets import Output\n",
    "from IPython.display import display\n",
    "\n",
    "# -----------------------------------------------------------------------\n",
    "# Подключить пользовательские модули\n",
    "# -----------------------------------------------------------------------\n",
    "import sys\n",
    "sys.path.append('/home/project/3D-position-2023/py/lib')\n",
    "\n",
    "# Подключить модуль для подключения к БД Redis\n",
    "from py.lib.lib_work_redis_rev01_v01 import *\n",
    "# Подключить модуль для создания и обновления HTML элементов отображения данных об углах Эйлера\n",
    "from py.lib.lib_work_html_widget_rev01_v01 import *\n",
    "# Подключить модуль с оберткой для синхронных функций в стиле setInterval JavaScript\n",
    "from py.lib.lib_setinterval_rev01_v01 import *"
   ]
  },
  {
   "cell_type": "markdown",
   "id": "a2d2e91d",
   "metadata": {},
   "source": [
    "### Блок настроек среды исполнения Jupyter lab"
   ]
  },
  {
   "cell_type": "code",
   "execution_count": null,
   "id": "a2a81f8b",
   "metadata": {},
   "outputs": [],
   "source": [
    "# Инструкция требующая повторно перезагружать пользовательские функции после изменения их кода\n",
    "%load_ext autoreload\n",
    "%autoreload 2"
   ]
  },
  {
   "cell_type": "markdown",
   "id": "d80de114",
   "metadata": {},
   "source": [
    "### Блок объявления глобальных переменных модуля"
   ]
  },
  {
   "cell_type": "code",
   "execution_count": null,
   "id": "86342a5b",
   "metadata": {},
   "outputs": [],
   "source": [
    "# Создать алиасы индексов соответствующих под-массивов, для удобства обращения\n",
    "ROLL_IND    = 0\n",
    "PITCH_IND   = 1\n",
    "YAW_IND     = 2\n",
    "\n",
    "AccArrRaw  = [[0,0,0],[0,0,0],[0,0,0]] # массив, хранит \"сырые\" данные от Акселерометра\n",
    "GyroArrRaw = [[0,0,0],[0,0,0],[0,0,0]] # массив, хранит \"сырые\" данные от Гироскопа\n",
    "MagArrRaw  = [[0,0,0],[0,0,0],[0,0,0]] # массив, хранит \"сырые\" данные от Магнитометра\n",
    "\n",
    "AccArrAvg  = [[0,0,0],[0,0,0],[0,0,0]] # массив, хранит усредненные данные от Акселерометра\n",
    "GyroArrAvg = [[0,0,0],[0,0,0],[0,0,0]] # массив, хранит усредненные данные от Гироскопа\n",
    "MagArrAvg  = [[0,0,0],[0,0,0],[0,0,0]] # массив, хранит усредненные данные от Магнитометра\n",
    "\n",
    "AccArrAngle  = [[0,0,0],[0,0,0],[0,0,0]] # массив, хранит углы Эйлера полученные с от Акселерометра\n",
    "GyroArrAngle = [[0,0,0],[0,0,0],[0,0,0]] # массив, хранит углы Эйлера полученные с помощью Гироскопа\n",
    "CompArrAngle = [[0,0,0],[0,0,0],[0,0,0]] # массив, хранит углы Эйлера полученные с помощью фильтра слияния\n",
    "\n",
    "TempArr = [0] # массив, хранит данные от термометра\n",
    "\n",
    "TimeDeltaAngle = 0 # значение dt для текущей итерации вычисления углов Эйлера\n",
    "\n",
    "Alpha = 0.98 # коэффициент фильтра слияния"
   ]
  },
  {
   "cell_type": "code",
   "execution_count": null,
   "id": "9ffb836d",
   "metadata": {},
   "outputs": [],
   "source": [
    "ConnectDB =  ConnectDB() # выполнить подключение к базе данных Redis"
   ]
  },
  {
   "cell_type": "markdown",
   "id": "497eb055",
   "metadata": {},
   "source": [
    "### Блок синхронизации данных об углах Эйлера с базой данных"
   ]
  },
  {
   "cell_type": "code",
   "execution_count": 2,
   "id": "8dd18c9f",
   "metadata": {},
   "outputs": [],
   "source": [
    "'''\n",
    "        Не системная функция, выполняет синхронизацию данных между БД и переменными блокнота.  \n",
    "'''\n",
    "def AsyncReadDataDB() -> None:\n",
    "        # Считать массив \"сырых\" данных из БД\n",
    "        ImuListRawKey = ('AccArrRaw', 'GyroArrRaw', 'MagArrRaw')\n",
    "        ImuListRawData = [AccArrRaw, GyroArrRaw, MagArrRaw]\n",
    "        ReadValJSONfromDB( ConnectDB, ImuListRawKey, ImuListRawData )\n",
    "\n",
    "        # Считать массив  усредненных данных из БД\n",
    "        ImuListAvgKey = ('AccArrAvg', 'GyroArrAvg', 'MagArrAvg')\n",
    "        ImuListAvgData = [AccArrAvg, GyroArrAvg, MagArrAvg]\n",
    "        ReadValJSONfromDB( ConnectDB, ImuListAvgKey, ImuListAvgData )\n",
    "\n",
    "        # Считать массивы со значениями углов Эйлера из БД\n",
    "        AngelListKey = ('AccArrAngle', 'GyroArrAngle', 'CompArrAngle')\n",
    "        AngelListData = [AccArrAngle, GyroArrAngle, CompArrAngle]\n",
    "        ReadValJSONfromDB( ConnectDB, AngelListKey, AngelListData )\n",
    "\n",
    "        # Считать массив со значениями температуры IMU из БД\n",
    "        TempListKey = ('TempArr',)\n",
    "        TempListData = [TempArr]\n",
    "        ReadValJSONfromDB( ConnectDB, TempListKey, TempListData )   \n",
    "\n",
    "        # Считать значение дельты времени обращений к IMU из БД\n",
    "        TimeDeltaAngleKey = ('TimeDeltaAngle',)\n",
    "        TimeDeltaAngleData = [TimeDeltaAngle]\n",
    "        ReadValJSONfromDB( ConnectDB, TimeDeltaAngleKey, TimeDeltaAngleData )\n",
    "\n",
    "        # Считать значение коэффициента Альфа, используемого при вычисления значений углов Эйлера в фильтре слияния\n",
    "        AlphaKey = ('AlphaKey',)\n",
    "        AlphaData = [Alpha]\n",
    "        ReadValJSONfromDB( ConnectDB, AlphaKey, AlphaData )"
   ]
  },
  {
   "cell_type": "code",
   "execution_count": null,
   "id": "cbe7fcec",
   "metadata": {},
   "outputs": [],
   "source": [
    "# Асинхронная функция-обертка для выполнения стороннего кода в асинхронном режиме\n",
    "async def AsyncDataDB():\n",
    "    AsyncFunc = SetInterval( 0.25, AsyncReadDataDB ) # период синхронизации 'ms' и 'fn' чтения данных из БД\n",
    "    AsyncFunc.start()\n",
    "\n",
    "await AsyncDataDB()"
   ]
  },
  {
   "cell_type": "markdown",
   "id": "3112c63c",
   "metadata": {
    "tags": []
   },
   "source": [
    "### Блок визуализации углов Эйлера по каналу Акселерометра"
   ]
  },
  {
   "cell_type": "code",
   "execution_count": null,
   "id": "bb92e539-defb-4348-94db-30a63de75a9d",
   "metadata": {},
   "outputs": [],
   "source": [
    "# Создать виджеты для отображения значений углов Эйлера по каналу Акселерометра\n",
    "Roll_Acc, Pitch_Acc, Yaw_Acc, A_Acc, B_Acc = CreateHTMLwidgest()\n",
    "# Отобразить виджеты\n",
    "display(widgets.HBox([widgets.Label(value='Roll_Acc'),\\\n",
    "                     Roll_Acc,\\\n",
    "                     A_Acc,\\\n",
    "                     widgets.Label(value='Pitch_Acc'),\\\n",
    "                     Pitch_Acc,\\\n",
    "                     B_Acc,\\\n",
    "                     widgets.Label(value='Yaw_Acc'),\\\n",
    "                     Yaw_Acc]))\n",
    "\n",
    "# Создать асинхронную обертку кода для асинхронного выполнения кода функции обновления содержимого виджетов углов по каналу Акселерометра\n",
    "async def AsyncAccEulerUpdateVal():\n",
    "    AsyncFunc = SetInterval( 0.25, UpdateHTMLwidgest, Roll_Acc, Pitch_Acc, Yaw_Acc, AccArrAngle ) # период обновления виджетов в 'ms' и 'fn'\n",
    "    AsyncFunc.start()\n",
    "\n",
    "await AsyncAccEulerUpdateVal()"
   ]
  },
  {
   "cell_type": "markdown",
   "id": "8d814193-381b-42ba-9d21-c6152baec122",
   "metadata": {},
   "source": [
    "### Блок визуализации углов Эйлера по каналу Гироскопа"
   ]
  },
  {
   "cell_type": "code",
   "execution_count": null,
   "id": "1d42e283-0fcf-4df9-a6a5-b3f08f7f59bf",
   "metadata": {},
   "outputs": [],
   "source": [
    "# Создать виджеты для отображения значений углов Эйлера по каналу Акселерометра\n",
    "Roll_Gyro, Pitch_Gyro, Yaw_Gyro, A_Gyro, B_Gyro = CreateHTMLwidgest()\n",
    "# Отобразить виджеты\n",
    "display(widgets.HBox([widgets.Label(value='Roll_Gyr'),\\\n",
    "                     Roll_Gyro,\\\n",
    "                     A_Gyro,\\\n",
    "                     widgets.Label(value='Pitch_Gyr'),\\\n",
    "                     Pitch_Gyro,\\\n",
    "                     B_Gyro,\\\n",
    "                     widgets.Label(value='Yaw_Gyr'),\\\n",
    "                     Yaw_Gyro]))\n",
    "\n",
    "# Создать асинхронную обертку кода для асинхронного выполнения кода функции обновления содержимого виджетов углов по каналу Акселерометра\n",
    "async def AsyncAccEulerUpdateVal():\n",
    "    AsyncFunc = SetInterval( 0.25, UpdateHTMLwidgest, Roll_Gyro, Pitch_Gyro, Yaw_Gyro, GyroArrAngle ) # период обновления виджетов в 'ms' и 'fn'\n",
    "    AsyncFunc.start()\n",
    "\n",
    "await AsyncAccEulerUpdateVal()"
   ]
  },
  {
   "cell_type": "markdown",
   "id": "5c7876bb",
   "metadata": {},
   "source": [
    "### Блок визуализации углов Эйлера по каналу Комплиментарного фильтра"
   ]
  },
  {
   "cell_type": "code",
   "execution_count": null,
   "id": "1797ad54-d49b-4aca-ab2f-f8d4ce49b575",
   "metadata": {},
   "outputs": [],
   "source": [
    "# Создать виджеты для отображения значений углов Эйлера по каналу Акселерометра\n",
    "Roll_Com, Pitch_Com, Yaw_Com, A_com, B_Com = CreateHTMLwidgest()\n",
    "# Отобразить виджеты\n",
    "display(widgets.HBox([widgets.Label(value='Roll_Com'),\\\n",
    "                     Roll_Com,\\\n",
    "                     A_com,\\\n",
    "                     widgets.Label(value='Pitch_Com'),\\\n",
    "                     Pitch_Com,\\\n",
    "                     B_Com,\\\n",
    "                     widgets.Label(value='Yaw_Com'),\\\n",
    "                     Yaw_Com]))\n",
    "\n",
    "# Создать асинхронную обертку кода для асинхронного выполнения кода функции обновления содержимого виджетов углов по каналу Акселерометра\n",
    "async def AsyncAccEulerUpdateVal():\n",
    "    AsyncFunc = SetInterval( 0.25, UpdateHTMLwidgest, Roll_Com, Pitch_Com, Yaw_Com, CompArrAngle ) # период обновления виджетов в 'ms' и 'fn'\n",
    "    AsyncFunc.start()\n",
    "\n",
    "await AsyncAccEulerUpdateVal()"
   ]
  }
 ],
 "metadata": {
  "kernelspec": {
   "display_name": "Python 3 (ipykernel)",
   "language": "python",
   "name": "python3"
  },
  "language_info": {
   "codemirror_mode": {
    "name": "ipython",
    "version": 3
   },
   "file_extension": ".py",
   "mimetype": "text/x-python",
   "name": "python",
   "nbconvert_exporter": "python",
   "pygments_lexer": "ipython3",
   "version": "3.11.5"
  }
 },
 "nbformat": 4,
 "nbformat_minor": 5
}
