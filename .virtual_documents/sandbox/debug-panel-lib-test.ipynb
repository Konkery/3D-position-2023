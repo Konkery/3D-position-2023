import numpy as np
import panel as pn
from bokeh.plotting import figure

# Настройка для отображения в Jupyter Lab
pn.extension()

# Количество отсчетов и период синусоиды
num_points = 72
period = 2 * np.pi

# Создаем массив для оси X
x_values = np.linspace(0, period, num_points)

# Функция для построения синусоиды с заданным фазовым сдвигом
def plot_sine(phase_shift):
    y_values = np.sin(x_values + phase_shift)
    plot = figure(width=500, height=300, title="Интерактивная синусоида")
    plot.line(x_values, y_values)
    return plot

# Используем interact для создания слайдера для фазового сдвига
sine_interact = pn.interact(plot_sine, phase_shift=(0, 2*period, 0.1))

# Отображаем интерактивный график в Jupyter Lab
sine_interact



import plotly.graph_objs as go
from plotly.offline import iplot
import numpy as np

# Параметры анимации
num_points = 72  # Количество точек в массиве
frequency = 5    # Частота обновления в секунду

# Создаем начальный массив значений синусоиды
x_values = np.linspace(0, 2 * np.pi, num_points)
y_values = np.sin(x_values)

# Создаем фигуру Plotly
fig = go.Figure(
    data=[go.Scatter(x=x_values, y=y_values, mode='lines')],
    layout=go.Layout(
        title="Анимация синусоиды",
        updatemenus=[{
            "type": "buttons",
            "buttons": [{
                "label": "Play",
                "method": "animate",
                "args": [None, {"frame": {"duration": 1000 / frequency, "redraw": True}, "fromcurrent": True}]
            }]
        }]
    ),
    frames=[go.Frame(data=[go.Scatter(x=x_values, y=np.sin(x_values + 2 * np.pi * i / num_points))]) for i in range(num_points)]
)

# Отображаем анимацию
iplot(fig)


import plotly.graph_objs as go
from plotly.subplots import make_subplots
import numpy as np
import time
from IPython.display import display, clear_output

# Параметры анимации
num_points = 72  # Количество точек в массиве
frequency = 5    # Частота обновления в секунду

# Создаем начальный массив значений синусоиды
x_values = np.linspace(0, 2 * np.pi, num_points)
y_values = np.sin(x_values)

# Создаем фигуру Plotly
fig = make_subplots(rows=1, cols=1)
trace = go.Scatter(x=x_values, y=y_values, mode='lines')
fig.add_trace(trace)
fig.update_layout(title_text='Анимация синусоиды', xaxis_title='X', yaxis_title='Y')

# Функция для обновления анимации
def update_animation(fig, x_values, y_values, num_points, frequency):
    try:
        while True:
            y_values = np.roll(y_values, -1)  # Сдвигаем значения
            y_values[-1] = np.sin(x_values[-1] + (x_values[1] - x_values[0]) * num_points)  # Добавляем новое значение в конец

            # Обновляем данные в графике
            fig.data[0].y = y_values

            # Отображаем обновленный график
            clear_output(wait=True)
            display(fig.show(config={'displayModeBar': False}))

            # Пауза до следующего обновления
            time.sleep(1.0 / frequency)
    except KeyboardInterrupt:
        # Останавливаем анимацию, если было выполнено прерывание (например, пользователь нажал Stop в Jupyter Lab)
        pass

# Запускаем анимацию
update_animation(fig, x_values, y_values, num_points, frequency)


import plotly.graph_objs as go
import numpy as np
from plotly.subplots import make_subplots

# Параметры анимации
num_points = 72  # Количество точек в массиве
num_frames = 200  # Количество кадров в анимации

# Создаем начальный массив значений синусоиды
x_values = np.linspace(0, 2 * np.pi, num_points)
y_values = np.sin(x_values)

# Создаем фигуру Plotly
fig = make_subplots(rows=1, cols=1)
trace = go.Scatter(x=x_values, y=y_values, mode='lines')
fig.add_trace(trace)
fig.update_layout(title_text='Анимация синусоиды', xaxis_title='X', yaxis_title='Y')

# Создаем кадры для анимации
frames = [go.Frame(data=[go.Scatter(x=x_values, y=np.sin(x_values + 2 * np.pi * i / num_frames))]) for i in range(num_frames)]

# Добавляем кадры в фигуру
fig.frames = frames

# Добавляем кнопку для запуска анимации
fig.update_layout(
    updatemenus=[dict(
        type="buttons",
        buttons=[dict(label="Play",
                      method="animate",
                      args=[None, dict(frame=dict(duration=200, redraw=True), fromcurrent=True)])])]
)

# Отображаем анимацию
fig.show()


import plotly.graph_objs as go
from plotly.offline import iplot
import numpy as np

# Параметры анимации
num_points = 72  # Количество точек в массиве
frequency = 5    # Частота обновления в секунду

# Создаем начальный массив значений синусоиды
x_values = np.linspace(0, 2 * np.pi, num_points)
y_values = np.sin(x_values)

# Создаем фигуру Plotly
fig = go.Figure(
    data=[go.Scatter(x=x_values, y=y_values, mode='lines')],
    layout=go.Layout(
        title="Анимация синусоиды",
        updatemenus=[{
            "type": "buttons",
            "buttons": [{
                "label": "Play",
                "method": "animate",
                "args": [None, {"frame": {"duration": 1000 / frequency, "redraw": True}, "fromcurrent": True}]
            }]
        }]
    ),
    frames=[go.Frame(data=[go.Scatter(x=x_values, y=np.sin(x_values + 2 * np.pi * i / num_points))]) for i in range(num_points)]
)

# Отображаем анимацию
iplot(fig)


import plotly.graph_objs as go
import numpy as np
from IPython.display import clear_output
import time

# Параметры анимации
num_points = 50  # Количество точек в массиве
data_update_frequency = 5  # Частота обновления данных в секунду
animation_frequency = 5  # Частота анимации в кадрах в секунду

# Создаем начальный массив случайных данных
data = np.random.rand(num_points)

# Создаем фигуру Plotly
fig = go.Figure(data=[go.Scatter(y=data, mode='lines')])

# Функция для обновления данных и анимации
def update_animation():
    while True:
        # Сдвигаем данные и добавляем новое случайное значение
        data[:-1] = data[1:]
        data[-1] = np.random.rand()

        # Обновляем данные в графике
        fig.data[0].y = data

        # Отображаем обновленный график
        clear_output(wait=True)
        fig.show()

        # Пауза до следующего обновления данных
        time.sleep(1.0 / animation_frequency)

# Запускаем анимацию
update_animation()
